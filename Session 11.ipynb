{
 "cells": [
  {
   "cell_type": "code",
   "execution_count": 13,
   "metadata": {
    "ExecuteTime": {
     "end_time": "2019-08-12T18:27:13.385896Z",
     "start_time": "2019-08-12T18:27:13.381907Z"
    }
   },
   "outputs": [],
   "source": [
    "key = '2AwrR9MZVgm3E9u2AjKyMPgWLN7ZJsYL'"
   ]
  },
  {
   "cell_type": "code",
   "execution_count": 2,
   "metadata": {
    "ExecuteTime": {
     "end_time": "2019-08-12T18:13:08.157249Z",
     "start_time": "2019-08-12T18:13:08.154257Z"
    }
   },
   "outputs": [],
   "source": [
    "import time"
   ]
  },
  {
   "cell_type": "code",
   "execution_count": 3,
   "metadata": {
    "ExecuteTime": {
     "end_time": "2019-08-12T18:13:08.863361Z",
     "start_time": "2019-08-12T18:13:08.714758Z"
    }
   },
   "outputs": [],
   "source": [
    "import requests"
   ]
  },
  {
   "cell_type": "code",
   "execution_count": 4,
   "metadata": {
    "ExecuteTime": {
     "end_time": "2019-08-12T18:13:09.404913Z",
     "start_time": "2019-08-12T18:13:09.398929Z"
    }
   },
   "outputs": [],
   "source": [
    "def searchRating(movieName):\n",
    "    link = 'https://api.nytimes.com/svc/movies/v2/reviews/search.json?query=%s&api-key='%movieName + key\n",
    "    r = requests.get(link)\n",
    "    if r.status_code != 200:\n",
    "        return \"Error: Error code %d\" % r.status_code\n",
    "    r_json = r.json()\n",
    "    return r_json"
   ]
  },
  {
   "cell_type": "code",
   "execution_count": 5,
   "metadata": {
    "ExecuteTime": {
     "end_time": "2019-08-12T18:13:10.495693Z",
     "start_time": "2019-08-12T18:13:10.047196Z"
    }
   },
   "outputs": [],
   "source": [
    "results = searchRating('star wars')"
   ]
  },
  {
   "cell_type": "code",
   "execution_count": 6,
   "metadata": {
    "ExecuteTime": {
     "end_time": "2019-08-12T18:13:10.794858Z",
     "start_time": "2019-08-12T18:13:10.769924Z"
    }
   },
   "outputs": [
    {
     "name": "stdout",
     "output_type": "stream",
     "text": [
      "Solo: A Star Wars Story\n",
      "Star Wars: The Last Jedi\n",
      "Rogue One: A Star Wars Story\n",
      "Star Wars: Episode VII - The Force Awakens\n",
      "Star Wars: The Clone Wars\n",
      "Star Wars: Episode II Attack of the Clones\n",
      "Star Wars: Episode I - The Phantom Menace\n",
      "Return of the Jedi\n",
      "Star Wars\n"
     ]
    }
   ],
   "source": [
    "listOfResults = results['results']\n",
    "for i in range(int(results['num_results'])):\n",
    "    print(listOfResults[i][\"display_title\"])"
   ]
  },
  {
   "cell_type": "code",
   "execution_count": 7,
   "metadata": {
    "ExecuteTime": {
     "end_time": "2019-08-12T18:13:11.563829Z",
     "start_time": "2019-08-12T18:13:11.557818Z"
    }
   },
   "outputs": [],
   "source": [
    "def searchRating(movieName):\n",
    "    has_more = True\n",
    "    count = 0\n",
    "    results = list()\n",
    "    while has_more:\n",
    "        params = {\n",
    "            'query':movieName,\n",
    "            'api-key':key,\n",
    "            'offset':str(count)\n",
    "        }\n",
    "        link = 'https://api.nytimes.com/svc/movies/v2/reviews/search.json'\n",
    "        r = requests.get(link,params)\n",
    "        if r.status_code != 200:\n",
    "            return \"Error: Error code %d\" % r.status_code\n",
    "        r_json = r.json()\n",
    "        has_more = r_json['has_more']\n",
    "        results.extend(r_json['results'])\n",
    "        count += 20\n",
    "        time.sleep(6)\n",
    "    return results"
   ]
  },
  {
   "cell_type": "code",
   "execution_count": 8,
   "metadata": {
    "ExecuteTime": {
     "end_time": "2019-08-12T18:13:28.206345Z",
     "start_time": "2019-08-12T18:13:15.178139Z"
    }
   },
   "outputs": [],
   "source": [
    "results = searchRating('manhattan')"
   ]
  },
  {
   "cell_type": "code",
   "execution_count": 9,
   "metadata": {
    "ExecuteTime": {
     "end_time": "2019-08-12T18:13:30.556026Z",
     "start_time": "2019-08-12T18:13:30.551040Z"
    }
   },
   "outputs": [
    {
     "name": "stdout",
     "output_type": "stream",
     "text": [
      "Manhattan Night\n",
      "Paris Manhattan\n",
      "Adrift in Manhattan\n",
      "Maid in Manhattan\n",
      "Night Falls on Manhattan\n",
      "Sudden Manhattan\n",
      "Manhattan Murder Mystery\n",
      "Manhattan By Numbers\n",
      "The Manhattan Project\n",
      "Manhattan\n",
      "Ciao! Manhattan\n",
      "Music in Manhattan\n",
      "Cowboy in Manhattan\n",
      "Tales of Manhattan\n",
      "Manhattan Merry-Go-Round\n",
      "Adventure in Manhattan\n",
      "Romance in Manhattan\n",
      "Manhattan Melodrama\n",
      "Child of Manhattan\n",
      "Manhattan Cocktail\n",
      "Manhattan\n"
     ]
    }
   ],
   "source": [
    "for i in results:\n",
    "    print(i['display_title'])\n",
    "    "
   ]
  },
  {
   "cell_type": "code",
   "execution_count": 10,
   "metadata": {
    "ExecuteTime": {
     "end_time": "2019-08-12T18:13:40.323910Z",
     "start_time": "2019-08-12T18:13:40.318924Z"
    }
   },
   "outputs": [],
   "source": [
    "import pickle\n"
   ]
  },
  {
   "cell_type": "code",
   "execution_count": 11,
   "metadata": {
    "ExecuteTime": {
     "end_time": "2019-08-12T18:19:00.407734Z",
     "start_time": "2019-08-12T18:19:00.402751Z"
    }
   },
   "outputs": [],
   "source": [
    "fp = open(\"nytimesdata.bin\",'wb')\n",
    "pickle.dump(results,fp)\n",
    "fp.close()"
   ]
  },
  {
   "cell_type": "code",
   "execution_count": 12,
   "metadata": {
    "ExecuteTime": {
     "end_time": "2019-08-12T18:23:05.196102Z",
     "start_time": "2019-08-12T18:23:05.190118Z"
    }
   },
   "outputs": [
    {
     "name": "stdout",
     "output_type": "stream",
     "text": [
      "[{'display_title': 'Manhattan Night', 'mpaa_rating': 'R', 'critics_pick': 0, 'byline': 'STEPHEN HOLDEN', 'headline': 'Review: In ‘Manhattan Night,’ Adrien Brody Navigates an Urban Underbelly', 'summary_short': 'Starring Adrien Brody as a tabloid columnist, this film deploys conventions evoking “Chinatown” and older classics but ends up feeling prosaic.', 'publication_date': '2016-05-19', 'opening_date': '2016-05-20', 'date_updated': '2017-11-02 04:18:24', 'link': {'type': 'article', 'url': 'http://www.nytimes.com/2016/05/20/movies/-manhattan-night-review-adrien-brody.html', 'suggested_link_text': 'Read the New York Times Review of Manhattan Night'}, 'multimedia': {'type': 'mediumThreeByTwo210', 'src': 'https://static01.nyt.com/images/2016/05/20/arts/20MANHATTAN/20MANHATTAN-mediumThreeByTwo210-v2.jpg', 'width': 210, 'height': 140}}, {'display_title': 'Paris Manhattan', 'mpaa_rating': '', 'critics_pick': 0, 'byline': 'JEANNETTE CATSOULIS', 'headline': 'Her Woody Allen Obsession', 'summary_short': 'The central character in “Paris Manhattan” spills her problems to a poster of Woody Allen, whose disembodied voice responds with lines from his movies.', 'publication_date': '2013-04-11', 'opening_date': None, 'date_updated': '2017-11-02 04:16:36', 'link': {'type': 'article', 'url': 'http://www.nytimes.com/2013/04/12/movies/paris-manhattan-by-sophie-lellouche.html', 'suggested_link_text': 'Read the New York Times Review of Paris Manhattan'}, 'multimedia': None}, {'display_title': 'Adrift in Manhattan', 'mpaa_rating': 'R', 'critics_pick': 0, 'byline': 'JEANNETTE CATSOULIS', 'headline': 'Urban Woe', 'summary_short': 'Filled with moody shots of Zabar’s and lonely city streets, “Adrift in Manhattan” looks dreamy and feels even less substantial.', 'publication_date': '2007-09-21', 'opening_date': None, 'date_updated': '2017-11-02 04:16:26', 'link': {'type': 'article', 'url': 'http://www.nytimes.com/2007/09/21/movies/21adri.html', 'suggested_link_text': 'Read the New York Times Review of Adrift in Manhattan'}, 'multimedia': None}, {'display_title': 'Maid in Manhattan', 'mpaa_rating': 'PG-13', 'critics_pick': 0, 'byline': 'A. O. Scott', 'headline': 'Maid In Manhattan (Movie)  ', 'summary_short': \"Jennifer Lopez has some of the forthright sexual confidence of an old-time movie star, and the film's premise &#151; in a case of mistaken identity, a hotel maid becomes romantically entangled with a rich bachelor &#151; harkens back to the studio comedies of the 1930's. Unfortunately, though, Wayne Wang's film lacks the bite and fizz of those pictures: it's neither funny nor giddily romantic enough, in spite of Ms. Lopez's magnetism and the best efforts of some supporting players. Ralph Fiennes, as the wealthy would-be senator (and current New York State assemblyman) who is Ms. Lopez's love interest, seems too meek and fuddled for the part &#151; more Ralph Bellamy than Cary Grant. It's hard to imagine his character in bed with an Albany lobbyist, much less Ms. Lopez. &#151; A. O. Scott\\r\\n\", 'publication_date': '2002-12-13', 'opening_date': '2002-12-13', 'date_updated': '2017-11-02 04:18:01', 'link': {'type': 'article', 'url': 'http://www.nytimes.com/2002/12/13/movies/film-review-puttin-down-mop-puttin-on-the-ritz.html', 'suggested_link_text': 'Read the New York Times Review of Maid in Manhattan'}, 'multimedia': None}, {'display_title': 'Night Falls on Manhattan', 'mpaa_rating': 'R', 'critics_pick': 0, 'byline': 'Janet Maslin', 'headline': 'Night Falls on Manhattan (Movie)  ', 'summary_short': 'New York Police Department scandal. Oddly listless.', 'publication_date': '1997-05-16', 'opening_date': '1997-05-16', 'date_updated': '2017-11-02 04:17:53', 'link': {'type': 'article', 'url': 'http://www.nytimes.com/1997/05/16/movies/filial-love-and-duty-in-conflict.html', 'suggested_link_text': 'Read the New York Times Review of Night Falls on Manhattan'}, 'multimedia': None}, {'display_title': 'Sudden Manhattan', 'mpaa_rating': '', 'critics_pick': 0, 'byline': 'Stephen Holden', 'headline': 'Sudden Manhattan (Movie)  ', 'summary_short': 'Bored New Yorker, oddball friends and nasty soothsayer. So not funny.', 'publication_date': '1997-03-07', 'opening_date': '1997-03-07', 'date_updated': '2017-11-02 04:17:51', 'link': {'type': 'article', 'url': 'http://www.nytimes.com/1997/03/07/movies/what-s-the-meaning-of-life-you-can-ask-the-tea-leaves.html', 'suggested_link_text': 'Read the New York Times Review of Sudden Manhattan'}, 'multimedia': None}, {'display_title': 'Manhattan Murder Mystery', 'mpaa_rating': 'PG', 'critics_pick': 0, 'byline': 'Janet Maslin', 'headline': 'MANHATTAN MURDER MYSTERY (MOVIE)', 'summary_short': 'Making like Nick and Nora. Endless talk but hint of wisdom.', 'publication_date': '1993-08-18', 'opening_date': '1993-08-18', 'date_updated': '2017-11-02 04:17:45', 'link': {'type': 'article', 'url': 'http://www.nytimes.com/1993/08/18/movies/review-film-manhattan-murder-mystery-allen-keaton-together-again-dizzy-ever.html', 'suggested_link_text': 'Read the New York Times Review of Manhattan Murder Mystery'}, 'multimedia': None}, {'display_title': 'Manhattan By Numbers', 'mpaa_rating': '', 'critics_pick': 0, 'byline': 'Vincent Canby', 'headline': 'MANHATTAN BY NUMBERS (MOVIE)', 'summary_short': '', 'publication_date': '1993-04-02', 'opening_date': None, 'date_updated': '2017-11-02 04:16:12', 'link': {'type': 'article', 'url': 'http://www.nytimes.com/1993/04/02/movies/reviews-film-festival-staying-hot-on-the-trail-of-a-cooled-friendship.html', 'suggested_link_text': 'Read the New York Times Review of Manhattan By Numbers'}, 'multimedia': None}, {'display_title': 'The Manhattan Project', 'mpaa_rating': 'PG-13', 'critics_pick': 0, 'byline': 'Vincent Canby', 'headline': 'MANHATTAN PROJECT, THE (MOVIE)', 'summary_short': 'Precocious boy makes own nuclear reactor. Cleverly smooth but bland.', 'publication_date': '1986-06-13', 'opening_date': '1986-06-13', 'date_updated': '2017-11-02 04:17:36', 'link': {'type': 'article', 'url': 'http://www.nytimes.com/1986/06/13/movies/screen-manhattan-project.html', 'suggested_link_text': 'Read the New York Times Review of The Manhattan Project'}, 'multimedia': None}, {'display_title': 'Manhattan', 'mpaa_rating': 'R', 'critics_pick': 1, 'byline': 'VINCENT CANBY', 'headline': 'Manhattan (Movie)', 'summary_short': \"Comedy writer's lovers and friends. Peak Allen fare, to grand Gershwin flavoring.\", 'publication_date': '1979-04-25', 'opening_date': '1979-04-25', 'date_updated': '2017-11-02 04:17:29', 'link': {'type': 'article', 'url': 'http://www.nytimes.com/1979/04/25/archives/the-screen-woody-allens-manhattan.html', 'suggested_link_text': 'Read the New York Times Review of Manhattan'}, 'multimedia': None}, {'display_title': 'Ciao! Manhattan', 'mpaa_rating': 'R', 'critics_pick': 0, 'byline': 'ROGER GREENSPUN', 'headline': 'Ciao! Manhattan (Movie)', 'summary_short': 'Andy Warhol protegee, from debutante to drug addict.', 'publication_date': '1973-04-20', 'opening_date': None, 'date_updated': '2017-11-02 04:16:01', 'link': {'type': 'article', 'url': 'http://www.nytimes.com/1973/04/20/archives/screen-cruel-fantasyciao-manhattan-tells-edie-sedgwick-story.html', 'suggested_link_text': 'Read the New York Times Review of Ciao! Manhattan'}, 'multimedia': None}, {'display_title': 'Music in Manhattan', 'mpaa_rating': '', 'critics_pick': 0, 'byline': 'BOSLEY CROWTHER', 'headline': 'Music in Manhattan', 'summary_short': 'Youth falls for girl after being forced to pose as her husband.', 'publication_date': '1944-10-07', 'opening_date': None, 'date_updated': '2017-11-02 04:15:50', 'link': {'type': 'article', 'url': 'http://www.nytimes.com/1944/10/07/archives/mild-musical.html', 'suggested_link_text': 'Read the New York Times Review of Music in Manhattan'}, 'multimedia': None}, {'display_title': 'Cowboy in Manhattan', 'mpaa_rating': '', 'critics_pick': 0, 'byline': 'A.W.', 'headline': 'Cowboy in Manhattan', 'summary_short': '', 'publication_date': '1943-05-28', 'opening_date': '1943-05-21', 'date_updated': '2017-11-02 04:17:06', 'link': {'type': 'article', 'url': 'http://www.nytimes.com/1943/05/28/archives/at-the-palace.html', 'suggested_link_text': 'Read the New York Times Review of Cowboy in Manhattan'}, 'multimedia': None}, {'display_title': 'Tales of Manhattan', 'mpaa_rating': 'Not Rated', 'critics_pick': 0, 'byline': 'BOSLEY CROWTHER', 'headline': 'Tales of Manhattan', 'summary_short': 'All-star episodes linked to tailcoat, thin to grand. Best are Laughton as conductor, Robinson as Bowery bum at class reunion.', 'publication_date': '1942-09-25', 'opening_date': '1942-09-24', 'date_updated': '2017-11-02 04:17:05', 'link': {'type': 'article', 'url': 'http://www.nytimes.com/1942/09/25/archives/tales-of-manhattan-starring-charles-boyer-henry-fonda-edward-g.html', 'suggested_link_text': 'Read the New York Times Review of Tales of Manhattan'}, 'multimedia': None}, {'display_title': 'Manhattan Merry-Go-Round', 'mpaa_rating': '', 'critics_pick': 0, 'byline': 'FRANK S NUGENT', 'headline': 'Manhattan Merry-Go-Round', 'summary_short': 'Harmless musical antique.', 'publication_date': '1937-12-31', 'opening_date': '1937-11-26', 'date_updated': '2017-11-02 04:17:00', 'link': {'type': 'article', 'url': 'http://www.nytimes.com/1937/12/31/archives/the-screen-in-review-jacques-devals-light-comedy-tovarich-is-shown.html', 'suggested_link_text': 'Read the New York Times Review of Manhattan Merry-Go-Round'}, 'multimedia': None}, {'display_title': 'Adventure in Manhattan', 'mpaa_rating': '', 'critics_pick': 0, 'byline': 'FRANK S. NUGENT', 'headline': 'Adventure in Manhattan', 'summary_short': 'Thievery and romance.', 'publication_date': '1936-10-23', 'opening_date': '1936-10-08', 'date_updated': '2017-11-02 04:16:59', 'link': {'type': 'article', 'url': 'http://www.nytimes.com/1936/10/23/archives/the-screen-adventure-in-manhattan-at-the-radio-city-music-hall-is-a.html', 'suggested_link_text': 'Read the New York Times Review of Adventure in Manhattan'}, 'multimedia': None}, {'display_title': 'Romance in Manhattan', 'mpaa_rating': '', 'critics_pick': 0, 'byline': 'A.S.', 'headline': 'Romance in Manhattan', 'summary_short': 'Manhattan chorine helps Czechoslovak immigrant. Mild, genial romantic comedy.', 'publication_date': '1935-01-18', 'opening_date': '1935-01-11', 'date_updated': '2017-11-02 04:16:56', 'link': {'type': 'article', 'url': 'http://www.nytimes.com/1935/01/18/archives/romance-in-manhattan.html', 'suggested_link_text': 'Read the New York Times Review of Romance in Manhattan'}, 'multimedia': None}, {'display_title': 'Manhattan Melodrama', 'mpaa_rating': 'Not Rated', 'critics_pick': 0, 'byline': 'M.H.', 'headline': 'Manhattan Melodrama', 'summary_short': 'Two street-pals become governor and gangster. Oscar-winner for best story. Vivid Slocum-disaster opening.', 'publication_date': '1934-05-05', 'opening_date': '1934-05-04', 'date_updated': '2017-11-02 04:16:54', 'link': {'type': 'article', 'url': 'http://www.nytimes.com/1934/05/05/archives/the-lawyer-and-the-gambler.html', 'suggested_link_text': 'Read the New York Times Review of Manhattan Melodrama'}, 'multimedia': None}, {'display_title': 'Child of Manhattan', 'mpaa_rating': '', 'critics_pick': 0, 'byline': 'MORDAUNT HALL', 'headline': 'Child of Manhattan', 'summary_short': 'Wife runs away from husband after baby dies. Tiresome and routine.', 'publication_date': '1933-02-13', 'opening_date': None, 'date_updated': '2017-11-02 04:15:49', 'link': {'type': 'article', 'url': 'http://www.nytimes.com/1933/02/13/archives/zasu-pitts-and-slim-summerville-in-a-comedy-about-two-servants-who.html', 'suggested_link_text': 'Read the New York Times Review of Child of Manhattan'}, 'multimedia': None}, {'display_title': 'Manhattan Cocktail', 'mpaa_rating': '', 'critics_pick': 0, 'byline': 'MORDAUNT HALL.', 'headline': 'Manhattan Cocktail', 'summary_short': '', 'publication_date': '1928-11-26', 'opening_date': '1928-11-24', 'date_updated': '2017-11-02 04:16:48', 'link': {'type': 'article', 'url': 'http://www.nytimes.com/1928/11/26/archives/the-screen-two-talking-films-satans-ruse-wicked-manhattan.html', 'suggested_link_text': 'Read the New York Times Review of Manhattan Cocktail'}, 'multimedia': None}, {'display_title': 'Manhattan', 'mpaa_rating': '', 'critics_pick': 0, 'byline': 'MORDAUNT HALL.', 'headline': 'Manhattan', 'summary_short': '', 'publication_date': '1924-10-29', 'opening_date': '1924-10-28', 'date_updated': '2017-11-02 04:16:46', 'link': {'type': 'article', 'url': 'http://www.nytimes.com/1924/10/29/archives/the-screen-fists-and-bullets.html', 'suggested_link_text': 'Read the New York Times Review of Manhattan'}, 'multimedia': None}]\n"
     ]
    }
   ],
   "source": [
    "fp = open(\"nytimesdata.bin\",'rb')\n",
    "data = pickle.load(fp)\n",
    "fp.close()\n",
    "print(data)"
   ]
  },
  {
   "cell_type": "code",
   "execution_count": 14,
   "metadata": {
    "ExecuteTime": {
     "end_time": "2019-08-12T18:31:55.815362Z",
     "start_time": "2019-08-12T18:31:55.807382Z"
    }
   },
   "outputs": [],
   "source": [
    "animals = ['kangaroo','panda','deer','wombat','capybara']"
   ]
  },
  {
   "cell_type": "code",
   "execution_count": 16,
   "metadata": {
    "ExecuteTime": {
     "end_time": "2019-08-12T18:33:51.812642Z",
     "start_time": "2019-08-12T18:33:51.806658Z"
    }
   },
   "outputs": [
    {
     "data": {
      "text/plain": [
       "['KANGAROO', 'PANDA', 'DEER', 'WOMBAT', 'CAPYBARA']"
      ]
     },
     "execution_count": 16,
     "metadata": {},
     "output_type": "execute_result"
    }
   ],
   "source": [
    "[animal.upper() for animal in animals]"
   ]
  },
  {
   "cell_type": "code",
   "execution_count": 20,
   "metadata": {
    "ExecuteTime": {
     "end_time": "2019-08-12T18:44:22.939825Z",
     "start_time": "2019-08-12T18:44:22.934824Z"
    }
   },
   "outputs": [],
   "source": [
    "prices = [1.1,2.2,3.3,4.4,5.5,6.6,7.7,8.8,9.9]\n",
    "\n",
    "prices1 = list(map(round,prices))"
   ]
  },
  {
   "cell_type": "code",
   "execution_count": 21,
   "metadata": {
    "ExecuteTime": {
     "end_time": "2019-08-12T18:44:23.836793Z",
     "start_time": "2019-08-12T18:44:23.832796Z"
    }
   },
   "outputs": [
    {
     "name": "stdout",
     "output_type": "stream",
     "text": [
      "[1, 2, 3, 4, 6, 7, 8, 9, 10]\n"
     ]
    }
   ],
   "source": [
    "print(prices1)"
   ]
  },
  {
   "cell_type": "code",
   "execution_count": 22,
   "metadata": {
    "ExecuteTime": {
     "end_time": "2019-08-12T18:45:03.357842Z",
     "start_time": "2019-08-12T18:45:03.353853Z"
    }
   },
   "outputs": [
    {
     "name": "stdout",
     "output_type": "stream",
     "text": [
      "[1, 2, 3, 4, 6, 7, 8, 9, 10]\n"
     ]
    }
   ],
   "source": [
    "prices2 = [round(price) for price in prices]\n",
    "print(prices2)"
   ]
  },
  {
   "cell_type": "code",
   "execution_count": 32,
   "metadata": {
    "ExecuteTime": {
     "end_time": "2019-08-12T18:51:21.996487Z",
     "start_time": "2019-08-12T18:51:21.991502Z"
    }
   },
   "outputs": [],
   "source": [
    "prices = [1.1,2.2,3.3,4.4,5.5,6.6,7.7,8.8,9.9,55.55]\n",
    "prices3 = list(map(lambda a: round(a) if a < 50 else a,prices))"
   ]
  },
  {
   "cell_type": "code",
   "execution_count": 33,
   "metadata": {
    "ExecuteTime": {
     "end_time": "2019-08-12T18:51:23.401477Z",
     "start_time": "2019-08-12T18:51:23.394496Z"
    }
   },
   "outputs": [
    {
     "name": "stdout",
     "output_type": "stream",
     "text": [
      "[1, 2, 3, 4, 6, 7, 8, 9, 10, 55.55]\n"
     ]
    }
   ],
   "source": [
    "print(prices3)"
   ]
  },
  {
   "cell_type": "code",
   "execution_count": null,
   "metadata": {},
   "outputs": [],
   "source": []
  },
  {
   "cell_type": "code",
   "execution_count": 35,
   "metadata": {
    "ExecuteTime": {
     "end_time": "2019-08-12T18:53:56.412861Z",
     "start_time": "2019-08-12T18:53:56.333075Z"
    }
   },
   "outputs": [],
   "source": [
    "from bokeh.io import output_notebook\n",
    "import bokeh.plotting as plt "
   ]
  },
  {
   "cell_type": "code",
   "execution_count": 36,
   "metadata": {
    "ExecuteTime": {
     "end_time": "2019-08-12T18:54:33.919866Z",
     "start_time": "2019-08-12T18:54:33.908895Z"
    }
   },
   "outputs": [
    {
     "data": {
      "text/html": [
       "\n",
       "    <div class=\"bk-root\">\n",
       "        <a href=\"https://bokeh.pydata.org\" target=\"_blank\" class=\"bk-logo bk-logo-small bk-logo-notebook\"></a>\n",
       "        <span id=\"1001\">Loading BokehJS ...</span>\n",
       "    </div>"
      ]
     },
     "metadata": {},
     "output_type": "display_data"
    },
    {
     "data": {
      "application/javascript": [
       "\n",
       "(function(root) {\n",
       "  function now() {\n",
       "    return new Date();\n",
       "  }\n",
       "\n",
       "  var force = true;\n",
       "\n",
       "  if (typeof (root._bokeh_onload_callbacks) === \"undefined\" || force === true) {\n",
       "    root._bokeh_onload_callbacks = [];\n",
       "    root._bokeh_is_loading = undefined;\n",
       "  }\n",
       "\n",
       "  var JS_MIME_TYPE = 'application/javascript';\n",
       "  var HTML_MIME_TYPE = 'text/html';\n",
       "  var EXEC_MIME_TYPE = 'application/vnd.bokehjs_exec.v0+json';\n",
       "  var CLASS_NAME = 'output_bokeh rendered_html';\n",
       "\n",
       "  /**\n",
       "   * Render data to the DOM node\n",
       "   */\n",
       "  function render(props, node) {\n",
       "    var script = document.createElement(\"script\");\n",
       "    node.appendChild(script);\n",
       "  }\n",
       "\n",
       "  /**\n",
       "   * Handle when an output is cleared or removed\n",
       "   */\n",
       "  function handleClearOutput(event, handle) {\n",
       "    var cell = handle.cell;\n",
       "\n",
       "    var id = cell.output_area._bokeh_element_id;\n",
       "    var server_id = cell.output_area._bokeh_server_id;\n",
       "    // Clean up Bokeh references\n",
       "    if (id != null && id in Bokeh.index) {\n",
       "      Bokeh.index[id].model.document.clear();\n",
       "      delete Bokeh.index[id];\n",
       "    }\n",
       "\n",
       "    if (server_id !== undefined) {\n",
       "      // Clean up Bokeh references\n",
       "      var cmd = \"from bokeh.io.state import curstate; print(curstate().uuid_to_server['\" + server_id + \"'].get_sessions()[0].document.roots[0]._id)\";\n",
       "      cell.notebook.kernel.execute(cmd, {\n",
       "        iopub: {\n",
       "          output: function(msg) {\n",
       "            var id = msg.content.text.trim();\n",
       "            if (id in Bokeh.index) {\n",
       "              Bokeh.index[id].model.document.clear();\n",
       "              delete Bokeh.index[id];\n",
       "            }\n",
       "          }\n",
       "        }\n",
       "      });\n",
       "      // Destroy server and session\n",
       "      var cmd = \"import bokeh.io.notebook as ion; ion.destroy_server('\" + server_id + \"')\";\n",
       "      cell.notebook.kernel.execute(cmd);\n",
       "    }\n",
       "  }\n",
       "\n",
       "  /**\n",
       "   * Handle when a new output is added\n",
       "   */\n",
       "  function handleAddOutput(event, handle) {\n",
       "    var output_area = handle.output_area;\n",
       "    var output = handle.output;\n",
       "\n",
       "    // limit handleAddOutput to display_data with EXEC_MIME_TYPE content only\n",
       "    if ((output.output_type != \"display_data\") || (!output.data.hasOwnProperty(EXEC_MIME_TYPE))) {\n",
       "      return\n",
       "    }\n",
       "\n",
       "    var toinsert = output_area.element.find(\".\" + CLASS_NAME.split(' ')[0]);\n",
       "\n",
       "    if (output.metadata[EXEC_MIME_TYPE][\"id\"] !== undefined) {\n",
       "      toinsert[toinsert.length - 1].firstChild.textContent = output.data[JS_MIME_TYPE];\n",
       "      // store reference to embed id on output_area\n",
       "      output_area._bokeh_element_id = output.metadata[EXEC_MIME_TYPE][\"id\"];\n",
       "    }\n",
       "    if (output.metadata[EXEC_MIME_TYPE][\"server_id\"] !== undefined) {\n",
       "      var bk_div = document.createElement(\"div\");\n",
       "      bk_div.innerHTML = output.data[HTML_MIME_TYPE];\n",
       "      var script_attrs = bk_div.children[0].attributes;\n",
       "      for (var i = 0; i < script_attrs.length; i++) {\n",
       "        toinsert[toinsert.length - 1].firstChild.setAttribute(script_attrs[i].name, script_attrs[i].value);\n",
       "      }\n",
       "      // store reference to server id on output_area\n",
       "      output_area._bokeh_server_id = output.metadata[EXEC_MIME_TYPE][\"server_id\"];\n",
       "    }\n",
       "  }\n",
       "\n",
       "  function register_renderer(events, OutputArea) {\n",
       "\n",
       "    function append_mime(data, metadata, element) {\n",
       "      // create a DOM node to render to\n",
       "      var toinsert = this.create_output_subarea(\n",
       "        metadata,\n",
       "        CLASS_NAME,\n",
       "        EXEC_MIME_TYPE\n",
       "      );\n",
       "      this.keyboard_manager.register_events(toinsert);\n",
       "      // Render to node\n",
       "      var props = {data: data, metadata: metadata[EXEC_MIME_TYPE]};\n",
       "      render(props, toinsert[toinsert.length - 1]);\n",
       "      element.append(toinsert);\n",
       "      return toinsert\n",
       "    }\n",
       "\n",
       "    /* Handle when an output is cleared or removed */\n",
       "    events.on('clear_output.CodeCell', handleClearOutput);\n",
       "    events.on('delete.Cell', handleClearOutput);\n",
       "\n",
       "    /* Handle when a new output is added */\n",
       "    events.on('output_added.OutputArea', handleAddOutput);\n",
       "\n",
       "    /**\n",
       "     * Register the mime type and append_mime function with output_area\n",
       "     */\n",
       "    OutputArea.prototype.register_mime_type(EXEC_MIME_TYPE, append_mime, {\n",
       "      /* Is output safe? */\n",
       "      safe: true,\n",
       "      /* Index of renderer in `output_area.display_order` */\n",
       "      index: 0\n",
       "    });\n",
       "  }\n",
       "\n",
       "  // register the mime type if in Jupyter Notebook environment and previously unregistered\n",
       "  if (root.Jupyter !== undefined) {\n",
       "    var events = require('base/js/events');\n",
       "    var OutputArea = require('notebook/js/outputarea').OutputArea;\n",
       "\n",
       "    if (OutputArea.prototype.mime_types().indexOf(EXEC_MIME_TYPE) == -1) {\n",
       "      register_renderer(events, OutputArea);\n",
       "    }\n",
       "  }\n",
       "\n",
       "  \n",
       "  if (typeof (root._bokeh_timeout) === \"undefined\" || force === true) {\n",
       "    root._bokeh_timeout = Date.now() + 5000;\n",
       "    root._bokeh_failed_load = false;\n",
       "  }\n",
       "\n",
       "  var NB_LOAD_WARNING = {'data': {'text/html':\n",
       "     \"<div style='background-color: #fdd'>\\n\"+\n",
       "     \"<p>\\n\"+\n",
       "     \"BokehJS does not appear to have successfully loaded. If loading BokehJS from CDN, this \\n\"+\n",
       "     \"may be due to a slow or bad network connection. Possible fixes:\\n\"+\n",
       "     \"</p>\\n\"+\n",
       "     \"<ul>\\n\"+\n",
       "     \"<li>re-rerun `output_notebook()` to attempt to load from CDN again, or</li>\\n\"+\n",
       "     \"<li>use INLINE resources instead, as so:</li>\\n\"+\n",
       "     \"</ul>\\n\"+\n",
       "     \"<code>\\n\"+\n",
       "     \"from bokeh.resources import INLINE\\n\"+\n",
       "     \"output_notebook(resources=INLINE)\\n\"+\n",
       "     \"</code>\\n\"+\n",
       "     \"</div>\"}};\n",
       "\n",
       "  function display_loaded() {\n",
       "    var el = document.getElementById(\"1001\");\n",
       "    if (el != null) {\n",
       "      el.textContent = \"BokehJS is loading...\";\n",
       "    }\n",
       "    if (root.Bokeh !== undefined) {\n",
       "      if (el != null) {\n",
       "        el.textContent = \"BokehJS \" + root.Bokeh.version + \" successfully loaded.\";\n",
       "      }\n",
       "    } else if (Date.now() < root._bokeh_timeout) {\n",
       "      setTimeout(display_loaded, 100)\n",
       "    }\n",
       "  }\n",
       "\n",
       "\n",
       "  function run_callbacks() {\n",
       "    try {\n",
       "      root._bokeh_onload_callbacks.forEach(function(callback) { callback() });\n",
       "    }\n",
       "    finally {\n",
       "      delete root._bokeh_onload_callbacks\n",
       "    }\n",
       "    console.info(\"Bokeh: all callbacks have finished\");\n",
       "  }\n",
       "\n",
       "  function load_libs(js_urls, callback) {\n",
       "    root._bokeh_onload_callbacks.push(callback);\n",
       "    if (root._bokeh_is_loading > 0) {\n",
       "      console.log(\"Bokeh: BokehJS is being loaded, scheduling callback at\", now());\n",
       "      return null;\n",
       "    }\n",
       "    if (js_urls == null || js_urls.length === 0) {\n",
       "      run_callbacks();\n",
       "      return null;\n",
       "    }\n",
       "    console.log(\"Bokeh: BokehJS not loaded, scheduling load and callback at\", now());\n",
       "    root._bokeh_is_loading = js_urls.length;\n",
       "    for (var i = 0; i < js_urls.length; i++) {\n",
       "      var url = js_urls[i];\n",
       "      var s = document.createElement('script');\n",
       "      s.src = url;\n",
       "      s.async = false;\n",
       "      s.onreadystatechange = s.onload = function() {\n",
       "        root._bokeh_is_loading--;\n",
       "        if (root._bokeh_is_loading === 0) {\n",
       "          console.log(\"Bokeh: all BokehJS libraries loaded\");\n",
       "          run_callbacks()\n",
       "        }\n",
       "      };\n",
       "      s.onerror = function() {\n",
       "        console.warn(\"failed to load library \" + url);\n",
       "      };\n",
       "      console.log(\"Bokeh: injecting script tag for BokehJS library: \", url);\n",
       "      document.getElementsByTagName(\"head\")[0].appendChild(s);\n",
       "    }\n",
       "  };var element = document.getElementById(\"1001\");\n",
       "  if (element == null) {\n",
       "    console.log(\"Bokeh: ERROR: autoload.js configured with elementid '1001' but no matching script tag was found. \")\n",
       "    return false;\n",
       "  }\n",
       "\n",
       "  var js_urls = [\"https://cdn.pydata.org/bokeh/release/bokeh-1.0.4.min.js\", \"https://cdn.pydata.org/bokeh/release/bokeh-widgets-1.0.4.min.js\", \"https://cdn.pydata.org/bokeh/release/bokeh-tables-1.0.4.min.js\", \"https://cdn.pydata.org/bokeh/release/bokeh-gl-1.0.4.min.js\"];\n",
       "\n",
       "  var inline_js = [\n",
       "    function(Bokeh) {\n",
       "      Bokeh.set_log_level(\"info\");\n",
       "    },\n",
       "    \n",
       "    function(Bokeh) {\n",
       "      \n",
       "    },\n",
       "    function(Bokeh) {\n",
       "      console.log(\"Bokeh: injecting CSS: https://cdn.pydata.org/bokeh/release/bokeh-1.0.4.min.css\");\n",
       "      Bokeh.embed.inject_css(\"https://cdn.pydata.org/bokeh/release/bokeh-1.0.4.min.css\");\n",
       "      console.log(\"Bokeh: injecting CSS: https://cdn.pydata.org/bokeh/release/bokeh-widgets-1.0.4.min.css\");\n",
       "      Bokeh.embed.inject_css(\"https://cdn.pydata.org/bokeh/release/bokeh-widgets-1.0.4.min.css\");\n",
       "      console.log(\"Bokeh: injecting CSS: https://cdn.pydata.org/bokeh/release/bokeh-tables-1.0.4.min.css\");\n",
       "      Bokeh.embed.inject_css(\"https://cdn.pydata.org/bokeh/release/bokeh-tables-1.0.4.min.css\");\n",
       "    }\n",
       "  ];\n",
       "\n",
       "  function run_inline_js() {\n",
       "    \n",
       "    if ((root.Bokeh !== undefined) || (force === true)) {\n",
       "      for (var i = 0; i < inline_js.length; i++) {\n",
       "        inline_js[i].call(root, root.Bokeh);\n",
       "      }if (force === true) {\n",
       "        display_loaded();\n",
       "      }} else if (Date.now() < root._bokeh_timeout) {\n",
       "      setTimeout(run_inline_js, 100);\n",
       "    } else if (!root._bokeh_failed_load) {\n",
       "      console.log(\"Bokeh: BokehJS failed to load within specified timeout.\");\n",
       "      root._bokeh_failed_load = true;\n",
       "    } else if (force !== true) {\n",
       "      var cell = $(document.getElementById(\"1001\")).parents('.cell').data().cell;\n",
       "      cell.output_area.append_execute_result(NB_LOAD_WARNING)\n",
       "    }\n",
       "\n",
       "  }\n",
       "\n",
       "  if (root._bokeh_is_loading === 0) {\n",
       "    console.log(\"Bokeh: BokehJS loaded, going straight to plotting\");\n",
       "    run_inline_js();\n",
       "  } else {\n",
       "    load_libs(js_urls, function() {\n",
       "      console.log(\"Bokeh: BokehJS plotting callback run at\", now());\n",
       "      run_inline_js();\n",
       "    });\n",
       "  }\n",
       "}(window));"
      ],
      "application/vnd.bokehjs_load.v0+json": "\n(function(root) {\n  function now() {\n    return new Date();\n  }\n\n  var force = true;\n\n  if (typeof (root._bokeh_onload_callbacks) === \"undefined\" || force === true) {\n    root._bokeh_onload_callbacks = [];\n    root._bokeh_is_loading = undefined;\n  }\n\n  \n\n  \n  if (typeof (root._bokeh_timeout) === \"undefined\" || force === true) {\n    root._bokeh_timeout = Date.now() + 5000;\n    root._bokeh_failed_load = false;\n  }\n\n  var NB_LOAD_WARNING = {'data': {'text/html':\n     \"<div style='background-color: #fdd'>\\n\"+\n     \"<p>\\n\"+\n     \"BokehJS does not appear to have successfully loaded. If loading BokehJS from CDN, this \\n\"+\n     \"may be due to a slow or bad network connection. Possible fixes:\\n\"+\n     \"</p>\\n\"+\n     \"<ul>\\n\"+\n     \"<li>re-rerun `output_notebook()` to attempt to load from CDN again, or</li>\\n\"+\n     \"<li>use INLINE resources instead, as so:</li>\\n\"+\n     \"</ul>\\n\"+\n     \"<code>\\n\"+\n     \"from bokeh.resources import INLINE\\n\"+\n     \"output_notebook(resources=INLINE)\\n\"+\n     \"</code>\\n\"+\n     \"</div>\"}};\n\n  function display_loaded() {\n    var el = document.getElementById(\"1001\");\n    if (el != null) {\n      el.textContent = \"BokehJS is loading...\";\n    }\n    if (root.Bokeh !== undefined) {\n      if (el != null) {\n        el.textContent = \"BokehJS \" + root.Bokeh.version + \" successfully loaded.\";\n      }\n    } else if (Date.now() < root._bokeh_timeout) {\n      setTimeout(display_loaded, 100)\n    }\n  }\n\n\n  function run_callbacks() {\n    try {\n      root._bokeh_onload_callbacks.forEach(function(callback) { callback() });\n    }\n    finally {\n      delete root._bokeh_onload_callbacks\n    }\n    console.info(\"Bokeh: all callbacks have finished\");\n  }\n\n  function load_libs(js_urls, callback) {\n    root._bokeh_onload_callbacks.push(callback);\n    if (root._bokeh_is_loading > 0) {\n      console.log(\"Bokeh: BokehJS is being loaded, scheduling callback at\", now());\n      return null;\n    }\n    if (js_urls == null || js_urls.length === 0) {\n      run_callbacks();\n      return null;\n    }\n    console.log(\"Bokeh: BokehJS not loaded, scheduling load and callback at\", now());\n    root._bokeh_is_loading = js_urls.length;\n    for (var i = 0; i < js_urls.length; i++) {\n      var url = js_urls[i];\n      var s = document.createElement('script');\n      s.src = url;\n      s.async = false;\n      s.onreadystatechange = s.onload = function() {\n        root._bokeh_is_loading--;\n        if (root._bokeh_is_loading === 0) {\n          console.log(\"Bokeh: all BokehJS libraries loaded\");\n          run_callbacks()\n        }\n      };\n      s.onerror = function() {\n        console.warn(\"failed to load library \" + url);\n      };\n      console.log(\"Bokeh: injecting script tag for BokehJS library: \", url);\n      document.getElementsByTagName(\"head\")[0].appendChild(s);\n    }\n  };var element = document.getElementById(\"1001\");\n  if (element == null) {\n    console.log(\"Bokeh: ERROR: autoload.js configured with elementid '1001' but no matching script tag was found. \")\n    return false;\n  }\n\n  var js_urls = [\"https://cdn.pydata.org/bokeh/release/bokeh-1.0.4.min.js\", \"https://cdn.pydata.org/bokeh/release/bokeh-widgets-1.0.4.min.js\", \"https://cdn.pydata.org/bokeh/release/bokeh-tables-1.0.4.min.js\", \"https://cdn.pydata.org/bokeh/release/bokeh-gl-1.0.4.min.js\"];\n\n  var inline_js = [\n    function(Bokeh) {\n      Bokeh.set_log_level(\"info\");\n    },\n    \n    function(Bokeh) {\n      \n    },\n    function(Bokeh) {\n      console.log(\"Bokeh: injecting CSS: https://cdn.pydata.org/bokeh/release/bokeh-1.0.4.min.css\");\n      Bokeh.embed.inject_css(\"https://cdn.pydata.org/bokeh/release/bokeh-1.0.4.min.css\");\n      console.log(\"Bokeh: injecting CSS: https://cdn.pydata.org/bokeh/release/bokeh-widgets-1.0.4.min.css\");\n      Bokeh.embed.inject_css(\"https://cdn.pydata.org/bokeh/release/bokeh-widgets-1.0.4.min.css\");\n      console.log(\"Bokeh: injecting CSS: https://cdn.pydata.org/bokeh/release/bokeh-tables-1.0.4.min.css\");\n      Bokeh.embed.inject_css(\"https://cdn.pydata.org/bokeh/release/bokeh-tables-1.0.4.min.css\");\n    }\n  ];\n\n  function run_inline_js() {\n    \n    if ((root.Bokeh !== undefined) || (force === true)) {\n      for (var i = 0; i < inline_js.length; i++) {\n        inline_js[i].call(root, root.Bokeh);\n      }if (force === true) {\n        display_loaded();\n      }} else if (Date.now() < root._bokeh_timeout) {\n      setTimeout(run_inline_js, 100);\n    } else if (!root._bokeh_failed_load) {\n      console.log(\"Bokeh: BokehJS failed to load within specified timeout.\");\n      root._bokeh_failed_load = true;\n    } else if (force !== true) {\n      var cell = $(document.getElementById(\"1001\")).parents('.cell').data().cell;\n      cell.output_area.append_execute_result(NB_LOAD_WARNING)\n    }\n\n  }\n\n  if (root._bokeh_is_loading === 0) {\n    console.log(\"Bokeh: BokehJS loaded, going straight to plotting\");\n    run_inline_js();\n  } else {\n    load_libs(js_urls, function() {\n      console.log(\"Bokeh: BokehJS plotting callback run at\", now());\n      run_inline_js();\n    });\n  }\n}(window));"
     },
     "metadata": {},
     "output_type": "display_data"
    }
   ],
   "source": [
    "output_notebook()"
   ]
  },
  {
   "cell_type": "code",
   "execution_count": 50,
   "metadata": {
    "ExecuteTime": {
     "end_time": "2019-08-12T19:04:10.698633Z",
     "start_time": "2019-08-12T19:04:10.691625Z"
    }
   },
   "outputs": [],
   "source": [
    "p = plt.figure(title = 'Capybaras in Brazil', x_axis_label='x', y_axis_label='y')"
   ]
  },
  {
   "cell_type": "code",
   "execution_count": 47,
   "metadata": {
    "ExecuteTime": {
     "end_time": "2019-08-12T19:03:50.918131Z",
     "start_time": "2019-08-12T19:03:50.914114Z"
    }
   },
   "outputs": [],
   "source": [
    "years = [2015,2016,2017,2018]\n",
    "numbers = [1000000,2000000,1750000,3000000]"
   ]
  },
  {
   "cell_type": "code",
   "execution_count": 54,
   "metadata": {
    "ExecuteTime": {
     "end_time": "2019-08-12T19:04:32.791287Z",
     "start_time": "2019-08-12T19:04:32.774333Z"
    }
   },
   "outputs": [
    {
     "data": {
      "text/html": [
       "<div style=\"display: table;\"><div style=\"display: table-row;\"><div style=\"display: table-cell;\"><b title=\"bokeh.models.renderers.GlyphRenderer\">GlyphRenderer</b>(</div><div style=\"display: table-cell;\">id&nbsp;=&nbsp;'1509', <span id=\"1552\" style=\"cursor: pointer;\">&hellip;)</span></div></div><div class=\"1551\" style=\"display: none;\"><div style=\"display: table-cell;\"></div><div style=\"display: table-cell;\">data_source&nbsp;=&nbsp;ColumnDataSource(id='1506', ...),</div></div><div class=\"1551\" style=\"display: none;\"><div style=\"display: table-cell;\"></div><div style=\"display: table-cell;\">glyph&nbsp;=&nbsp;Circle(id='1507', ...),</div></div><div class=\"1551\" style=\"display: none;\"><div style=\"display: table-cell;\"></div><div style=\"display: table-cell;\">hover_glyph&nbsp;=&nbsp;None,</div></div><div class=\"1551\" style=\"display: none;\"><div style=\"display: table-cell;\"></div><div style=\"display: table-cell;\">js_event_callbacks&nbsp;=&nbsp;{},</div></div><div class=\"1551\" style=\"display: none;\"><div style=\"display: table-cell;\"></div><div style=\"display: table-cell;\">js_property_callbacks&nbsp;=&nbsp;{},</div></div><div class=\"1551\" style=\"display: none;\"><div style=\"display: table-cell;\"></div><div style=\"display: table-cell;\">level&nbsp;=&nbsp;'glyph',</div></div><div class=\"1551\" style=\"display: none;\"><div style=\"display: table-cell;\"></div><div style=\"display: table-cell;\">muted&nbsp;=&nbsp;False,</div></div><div class=\"1551\" style=\"display: none;\"><div style=\"display: table-cell;\"></div><div style=\"display: table-cell;\">muted_glyph&nbsp;=&nbsp;None,</div></div><div class=\"1551\" style=\"display: none;\"><div style=\"display: table-cell;\"></div><div style=\"display: table-cell;\">name&nbsp;=&nbsp;None,</div></div><div class=\"1551\" style=\"display: none;\"><div style=\"display: table-cell;\"></div><div style=\"display: table-cell;\">nonselection_glyph&nbsp;=&nbsp;Circle(id='1508', ...),</div></div><div class=\"1551\" style=\"display: none;\"><div style=\"display: table-cell;\"></div><div style=\"display: table-cell;\">selection_glyph&nbsp;=&nbsp;None,</div></div><div class=\"1551\" style=\"display: none;\"><div style=\"display: table-cell;\"></div><div style=\"display: table-cell;\">subscribed_events&nbsp;=&nbsp;[],</div></div><div class=\"1551\" style=\"display: none;\"><div style=\"display: table-cell;\"></div><div style=\"display: table-cell;\">tags&nbsp;=&nbsp;[],</div></div><div class=\"1551\" style=\"display: none;\"><div style=\"display: table-cell;\"></div><div style=\"display: table-cell;\">view&nbsp;=&nbsp;CDSView(id='1510', ...),</div></div><div class=\"1551\" style=\"display: none;\"><div style=\"display: table-cell;\"></div><div style=\"display: table-cell;\">visible&nbsp;=&nbsp;True,</div></div><div class=\"1551\" style=\"display: none;\"><div style=\"display: table-cell;\"></div><div style=\"display: table-cell;\">x_range_name&nbsp;=&nbsp;'default',</div></div><div class=\"1551\" style=\"display: none;\"><div style=\"display: table-cell;\"></div><div style=\"display: table-cell;\">y_range_name&nbsp;=&nbsp;'default')</div></div></div>\n",
       "<script>\n",
       "(function() {\n",
       "  var expanded = false;\n",
       "  var ellipsis = document.getElementById(\"1552\");\n",
       "  ellipsis.addEventListener(\"click\", function() {\n",
       "    var rows = document.getElementsByClassName(\"1551\");\n",
       "    for (var i = 0; i < rows.length; i++) {\n",
       "      var el = rows[i];\n",
       "      el.style.display = expanded ? \"none\" : \"table-row\";\n",
       "    }\n",
       "    ellipsis.innerHTML = expanded ? \"&hellip;)\" : \"&lsaquo;&lsaquo;&lsaquo;\";\n",
       "    expanded = !expanded;\n",
       "  });\n",
       "})();\n",
       "</script>\n"
      ],
      "text/plain": [
       "GlyphRenderer(id='1509', ...)"
      ]
     },
     "execution_count": 54,
     "metadata": {},
     "output_type": "execute_result"
    }
   ],
   "source": [
    "p.circle(years, numbers, size=20, color=\"navy\", alpha=0.5)"
   ]
  },
  {
   "cell_type": "code",
   "execution_count": 56,
   "metadata": {
    "ExecuteTime": {
     "end_time": "2019-08-12T19:04:43.472532Z",
     "start_time": "2019-08-12T19:04:43.444607Z"
    }
   },
   "outputs": [
    {
     "data": {
      "text/html": [
       "\n",
       "\n",
       "\n",
       "\n",
       "\n",
       "\n",
       "  <div class=\"bk-root\" id=\"56b2c977-899c-4cc6-afc0-86908a143589\" data-root-id=\"1335\"></div>\n"
      ]
     },
     "metadata": {},
     "output_type": "display_data"
    },
    {
     "data": {
      "application/javascript": [
       "(function(root) {\n",
       "  function embed_document(root) {\n",
       "    \n",
       "  var docs_json = {\"b0c67ded-eb74-403e-bea1-7886b395f29e\":{\"roots\":{\"references\":[{\"attributes\":{\"below\":[{\"id\":\"1345\",\"type\":\"LinearAxis\"}],\"left\":[{\"id\":\"1350\",\"type\":\"LinearAxis\"}],\"renderers\":[{\"id\":\"1345\",\"type\":\"LinearAxis\"},{\"id\":\"1349\",\"type\":\"Grid\"},{\"id\":\"1350\",\"type\":\"LinearAxis\"},{\"id\":\"1354\",\"type\":\"Grid\"},{\"id\":\"1363\",\"type\":\"BoxAnnotation\"},{\"id\":\"1373\",\"type\":\"GlyphRenderer\"},{\"id\":\"1464\",\"type\":\"GlyphRenderer\"},{\"id\":\"1509\",\"type\":\"GlyphRenderer\"}],\"title\":{\"id\":\"1334\",\"type\":\"Title\"},\"toolbar\":{\"id\":\"1361\",\"type\":\"Toolbar\"},\"x_range\":{\"id\":\"1337\",\"type\":\"DataRange1d\"},\"x_scale\":{\"id\":\"1341\",\"type\":\"LinearScale\"},\"y_range\":{\"id\":\"1339\",\"type\":\"DataRange1d\"},\"y_scale\":{\"id\":\"1343\",\"type\":\"LinearScale\"}},\"id\":\"1335\",\"subtype\":\"Figure\",\"type\":\"Plot\"},{\"attributes\":{},\"id\":\"1343\",\"type\":\"LinearScale\"},{\"attributes\":{\"fill_alpha\":{\"value\":0.1},\"fill_color\":{\"value\":\"#1f77b4\"},\"line_alpha\":{\"value\":0.1},\"line_color\":{\"value\":\"#1f77b4\"},\"size\":{\"units\":\"screen\",\"value\":20},\"x\":{\"field\":\"x\"},\"y\":{\"field\":\"y\"}},\"id\":\"1463\",\"type\":\"Circle\"},{\"attributes\":{\"axis_label\":\"x\",\"formatter\":{\"id\":\"1409\",\"type\":\"BasicTickFormatter\"},\"plot\":{\"id\":\"1335\",\"subtype\":\"Figure\",\"type\":\"Plot\"},\"ticker\":{\"id\":\"1346\",\"type\":\"BasicTicker\"}},\"id\":\"1345\",\"type\":\"LinearAxis\"},{\"attributes\":{\"source\":{\"id\":\"1370\",\"type\":\"ColumnDataSource\"}},\"id\":\"1374\",\"type\":\"CDSView\"},{\"attributes\":{},\"id\":\"1341\",\"type\":\"LinearScale\"},{\"attributes\":{\"fill_color\":{\"value\":\"navy\"},\"line_color\":{\"value\":\"navy\"},\"size\":{\"units\":\"screen\",\"value\":20},\"x\":{\"field\":\"x\"},\"y\":{\"field\":\"y\"}},\"id\":\"1462\",\"type\":\"Circle\"},{\"attributes\":{\"callback\":null,\"data\":{\"x\":[2015,2016,2017,2018],\"y\":[1000000,2000000,1750000,3000000]},\"selected\":{\"id\":\"1549\",\"type\":\"Selection\"},\"selection_policy\":{\"id\":\"1548\",\"type\":\"UnionRenderers\"}},\"id\":\"1506\",\"type\":\"ColumnDataSource\"},{\"attributes\":{\"callback\":null},\"id\":\"1339\",\"type\":\"DataRange1d\"},{\"attributes\":{},\"id\":\"1548\",\"type\":\"UnionRenderers\"},{\"attributes\":{\"callback\":null},\"id\":\"1337\",\"type\":\"DataRange1d\"},{\"attributes\":{\"callback\":null,\"data\":{\"x\":[2015,2016,2017,2018],\"y\":[1000000,2000000,1750000,3000000]},\"selected\":{\"id\":\"1502\",\"type\":\"Selection\"},\"selection_policy\":{\"id\":\"1501\",\"type\":\"UnionRenderers\"}},\"id\":\"1461\",\"type\":\"ColumnDataSource\"},{\"attributes\":{\"plot\":null,\"text\":\"Capybaras in Brazil\"},\"id\":\"1334\",\"type\":\"Title\"},{\"attributes\":{\"data_source\":{\"id\":\"1370\",\"type\":\"ColumnDataSource\"},\"glyph\":{\"id\":\"1371\",\"type\":\"Circle\"},\"hover_glyph\":null,\"muted_glyph\":null,\"nonselection_glyph\":{\"id\":\"1372\",\"type\":\"Circle\"},\"selection_glyph\":null,\"view\":{\"id\":\"1374\",\"type\":\"CDSView\"}},\"id\":\"1373\",\"type\":\"GlyphRenderer\"},{\"attributes\":{\"data_source\":{\"id\":\"1506\",\"type\":\"ColumnDataSource\"},\"glyph\":{\"id\":\"1507\",\"type\":\"Circle\"},\"hover_glyph\":null,\"muted_glyph\":null,\"nonselection_glyph\":{\"id\":\"1508\",\"type\":\"Circle\"},\"selection_glyph\":null,\"view\":{\"id\":\"1510\",\"type\":\"CDSView\"}},\"id\":\"1509\",\"type\":\"GlyphRenderer\"},{\"attributes\":{\"fill_alpha\":{\"value\":0.1},\"fill_color\":{\"value\":\"#1f77b4\"},\"line_alpha\":{\"value\":0.1},\"line_color\":{\"value\":\"#1f77b4\"},\"size\":{\"units\":\"screen\",\"value\":20},\"x\":{\"field\":\"x\"},\"y\":{\"field\":\"y\"}},\"id\":\"1372\",\"type\":\"Circle\"},{\"attributes\":{},\"id\":\"1549\",\"type\":\"Selection\"},{\"attributes\":{},\"id\":\"1407\",\"type\":\"BasicTickFormatter\"},{\"attributes\":{},\"id\":\"1502\",\"type\":\"Selection\"},{\"attributes\":{\"fill_color\":{\"value\":\"navy\"},\"line_color\":{\"value\":\"navy\"},\"size\":{\"units\":\"screen\",\"value\":20},\"x\":{\"field\":\"x\"},\"y\":{\"field\":\"y\"}},\"id\":\"1371\",\"type\":\"Circle\"},{\"attributes\":{},\"id\":\"1411\",\"type\":\"Selection\"},{\"attributes\":{},\"id\":\"1410\",\"type\":\"UnionRenderers\"},{\"attributes\":{\"bottom_units\":\"screen\",\"fill_alpha\":{\"value\":0.5},\"fill_color\":{\"value\":\"lightgrey\"},\"left_units\":\"screen\",\"level\":\"overlay\",\"line_alpha\":{\"value\":1.0},\"line_color\":{\"value\":\"black\"},\"line_dash\":[4,4],\"line_width\":{\"value\":2},\"plot\":null,\"render_mode\":\"css\",\"right_units\":\"screen\",\"top_units\":\"screen\"},\"id\":\"1363\",\"type\":\"BoxAnnotation\"},{\"attributes\":{},\"id\":\"1358\",\"type\":\"SaveTool\"},{\"attributes\":{},\"id\":\"1360\",\"type\":\"HelpTool\"},{\"attributes\":{\"overlay\":{\"id\":\"1363\",\"type\":\"BoxAnnotation\"}},\"id\":\"1357\",\"type\":\"BoxZoomTool\"},{\"attributes\":{\"fill_alpha\":{\"value\":0.5},\"fill_color\":{\"value\":\"navy\"},\"line_alpha\":{\"value\":0.5},\"line_color\":{\"value\":\"navy\"},\"size\":{\"units\":\"screen\",\"value\":20},\"x\":{\"field\":\"x\"},\"y\":{\"field\":\"y\"}},\"id\":\"1507\",\"type\":\"Circle\"},{\"attributes\":{},\"id\":\"1356\",\"type\":\"WheelZoomTool\"},{\"attributes\":{\"fill_alpha\":{\"value\":0.1},\"fill_color\":{\"value\":\"#1f77b4\"},\"line_alpha\":{\"value\":0.1},\"line_color\":{\"value\":\"#1f77b4\"},\"size\":{\"units\":\"screen\",\"value\":20},\"x\":{\"field\":\"x\"},\"y\":{\"field\":\"y\"}},\"id\":\"1508\",\"type\":\"Circle\"},{\"attributes\":{},\"id\":\"1409\",\"type\":\"BasicTickFormatter\"},{\"attributes\":{\"source\":{\"id\":\"1506\",\"type\":\"ColumnDataSource\"}},\"id\":\"1510\",\"type\":\"CDSView\"},{\"attributes\":{},\"id\":\"1355\",\"type\":\"PanTool\"},{\"attributes\":{},\"id\":\"1346\",\"type\":\"BasicTicker\"},{\"attributes\":{},\"id\":\"1359\",\"type\":\"ResetTool\"},{\"attributes\":{\"plot\":{\"id\":\"1335\",\"subtype\":\"Figure\",\"type\":\"Plot\"},\"ticker\":{\"id\":\"1346\",\"type\":\"BasicTicker\"}},\"id\":\"1349\",\"type\":\"Grid\"},{\"attributes\":{\"callback\":null,\"data\":{\"x\":[2015,2016,2017,2018],\"y\":[1000000,2000000,1750000,3000000]},\"selected\":{\"id\":\"1411\",\"type\":\"Selection\"},\"selection_policy\":{\"id\":\"1410\",\"type\":\"UnionRenderers\"}},\"id\":\"1370\",\"type\":\"ColumnDataSource\"},{\"attributes\":{},\"id\":\"1501\",\"type\":\"UnionRenderers\"},{\"attributes\":{\"axis_label\":\"y\",\"formatter\":{\"id\":\"1407\",\"type\":\"BasicTickFormatter\"},\"plot\":{\"id\":\"1335\",\"subtype\":\"Figure\",\"type\":\"Plot\"},\"ticker\":{\"id\":\"1351\",\"type\":\"BasicTicker\"}},\"id\":\"1350\",\"type\":\"LinearAxis\"},{\"attributes\":{},\"id\":\"1351\",\"type\":\"BasicTicker\"},{\"attributes\":{\"dimension\":1,\"plot\":{\"id\":\"1335\",\"subtype\":\"Figure\",\"type\":\"Plot\"},\"ticker\":{\"id\":\"1351\",\"type\":\"BasicTicker\"}},\"id\":\"1354\",\"type\":\"Grid\"},{\"attributes\":{\"active_drag\":\"auto\",\"active_inspect\":\"auto\",\"active_multi\":null,\"active_scroll\":\"auto\",\"active_tap\":\"auto\",\"tools\":[{\"id\":\"1355\",\"type\":\"PanTool\"},{\"id\":\"1356\",\"type\":\"WheelZoomTool\"},{\"id\":\"1357\",\"type\":\"BoxZoomTool\"},{\"id\":\"1358\",\"type\":\"SaveTool\"},{\"id\":\"1359\",\"type\":\"ResetTool\"},{\"id\":\"1360\",\"type\":\"HelpTool\"}]},\"id\":\"1361\",\"type\":\"Toolbar\"},{\"attributes\":{\"source\":{\"id\":\"1461\",\"type\":\"ColumnDataSource\"}},\"id\":\"1465\",\"type\":\"CDSView\"},{\"attributes\":{\"data_source\":{\"id\":\"1461\",\"type\":\"ColumnDataSource\"},\"glyph\":{\"id\":\"1462\",\"type\":\"Circle\"},\"hover_glyph\":null,\"muted_glyph\":null,\"nonselection_glyph\":{\"id\":\"1463\",\"type\":\"Circle\"},\"selection_glyph\":null,\"view\":{\"id\":\"1465\",\"type\":\"CDSView\"}},\"id\":\"1464\",\"type\":\"GlyphRenderer\"}],\"root_ids\":[\"1335\"]},\"title\":\"Bokeh Application\",\"version\":\"1.0.4\"}};\n",
       "  var render_items = [{\"docid\":\"b0c67ded-eb74-403e-bea1-7886b395f29e\",\"roots\":{\"1335\":\"56b2c977-899c-4cc6-afc0-86908a143589\"}}];\n",
       "  root.Bokeh.embed.embed_items_notebook(docs_json, render_items);\n",
       "\n",
       "  }\n",
       "  if (root.Bokeh !== undefined) {\n",
       "    embed_document(root);\n",
       "  } else {\n",
       "    var attempts = 0;\n",
       "    var timer = setInterval(function(root) {\n",
       "      if (root.Bokeh !== undefined) {\n",
       "        embed_document(root);\n",
       "        clearInterval(timer);\n",
       "      }\n",
       "      attempts++;\n",
       "      if (attempts > 100) {\n",
       "        console.log(\"Bokeh: ERROR: Unable to run BokehJS code because BokehJS library is missing\");\n",
       "        clearInterval(timer);\n",
       "      }\n",
       "    }, 10, root)\n",
       "  }\n",
       "})(window);"
      ],
      "application/vnd.bokehjs_exec.v0+json": ""
     },
     "metadata": {
      "application/vnd.bokehjs_exec.v0+json": {
       "id": "1335"
      }
     },
     "output_type": "display_data"
    }
   ],
   "source": [
    "plt.show(p)"
   ]
  },
  {
   "cell_type": "code",
   "execution_count": 60,
   "metadata": {
    "ExecuteTime": {
     "end_time": "2019-08-12T19:10:07.965404Z",
     "start_time": "2019-08-12T19:10:07.907534Z"
    }
   },
   "outputs": [
    {
     "data": {
      "text/html": [
       "\n",
       "\n",
       "\n",
       "\n",
       "\n",
       "\n",
       "  <div class=\"bk-root\" id=\"5e7c77ed-a622-4e75-b3a9-3c304b2c847c\" data-root-id=\"2040\"></div>\n"
      ]
     },
     "metadata": {},
     "output_type": "display_data"
    },
    {
     "data": {
      "application/javascript": [
       "(function(root) {\n",
       "  function embed_document(root) {\n",
       "    \n",
       "  var docs_json = {\"0c0390bb-4aac-49a9-9afa-d122145c9d51\":{\"roots\":{\"references\":[{\"attributes\":{\"below\":[{\"id\":\"2050\",\"type\":\"LinearAxis\"}],\"left\":[{\"id\":\"2055\",\"type\":\"LinearAxis\"}],\"renderers\":[{\"id\":\"2050\",\"type\":\"LinearAxis\"},{\"id\":\"2054\",\"type\":\"Grid\"},{\"id\":\"2055\",\"type\":\"LinearAxis\"},{\"id\":\"2059\",\"type\":\"Grid\"},{\"id\":\"2068\",\"type\":\"BoxAnnotation\"},{\"id\":\"2086\",\"type\":\"Legend\"},{\"id\":\"2078\",\"type\":\"GlyphRenderer\"},{\"id\":\"2091\",\"type\":\"GlyphRenderer\"}],\"title\":{\"id\":\"2039\",\"type\":\"Title\"},\"toolbar\":{\"id\":\"2066\",\"type\":\"Toolbar\"},\"x_range\":{\"id\":\"2042\",\"type\":\"DataRange1d\"},\"x_scale\":{\"id\":\"2046\",\"type\":\"LinearScale\"},\"y_range\":{\"id\":\"2044\",\"type\":\"DataRange1d\"},\"y_scale\":{\"id\":\"2048\",\"type\":\"LinearScale\"}},\"id\":\"2040\",\"subtype\":\"Figure\",\"type\":\"Plot\"},{\"attributes\":{},\"id\":\"2099\",\"type\":\"Selection\"},{\"attributes\":{\"label\":{\"value\":\"supply\"},\"renderers\":[{\"id\":\"2091\",\"type\":\"GlyphRenderer\"}]},\"id\":\"2101\",\"type\":\"LegendItem\"},{\"attributes\":{\"line_color\":\"red\",\"x\":{\"field\":\"x\"},\"y\":{\"field\":\"y\"}},\"id\":\"2076\",\"type\":\"Line\"},{\"attributes\":{},\"id\":\"2065\",\"type\":\"HelpTool\"},{\"attributes\":{\"label\":{\"value\":\"demand\"},\"renderers\":[{\"id\":\"2078\",\"type\":\"GlyphRenderer\"}]},\"id\":\"2087\",\"type\":\"LegendItem\"},{\"attributes\":{\"line_alpha\":0.1,\"line_color\":\"#1f77b4\",\"x\":{\"field\":\"x\"},\"y\":{\"field\":\"y\"}},\"id\":\"2077\",\"type\":\"Line\"},{\"attributes\":{},\"id\":\"2056\",\"type\":\"BasicTicker\"},{\"attributes\":{},\"id\":\"2167\",\"type\":\"UnionRenderers\"},{\"attributes\":{},\"id\":\"2048\",\"type\":\"LinearScale\"},{\"attributes\":{\"axis_label\":\"demand\",\"formatter\":{\"id\":\"2082\",\"type\":\"BasicTickFormatter\"},\"plot\":{\"id\":\"2040\",\"subtype\":\"Figure\",\"type\":\"Plot\"},\"ticker\":{\"id\":\"2056\",\"type\":\"BasicTicker\"}},\"id\":\"2055\",\"type\":\"LinearAxis\"},{\"attributes\":{\"data_source\":{\"id\":\"2088\",\"type\":\"ColumnDataSource\"},\"glyph\":{\"id\":\"2089\",\"type\":\"Line\"},\"hover_glyph\":null,\"muted_glyph\":null,\"nonselection_glyph\":{\"id\":\"2090\",\"type\":\"Line\"},\"selection_glyph\":null,\"view\":{\"id\":\"2092\",\"type\":\"CDSView\"}},\"id\":\"2091\",\"type\":\"GlyphRenderer\"},{\"attributes\":{},\"id\":\"2168\",\"type\":\"Selection\"},{\"attributes\":{\"callback\":null},\"id\":\"2044\",\"type\":\"DataRange1d\"},{\"attributes\":{\"source\":{\"id\":\"2075\",\"type\":\"ColumnDataSource\"}},\"id\":\"2079\",\"type\":\"CDSView\"},{\"attributes\":{\"callback\":null},\"id\":\"2042\",\"type\":\"DataRange1d\"},{\"attributes\":{},\"id\":\"2098\",\"type\":\"UnionRenderers\"},{\"attributes\":{\"active_drag\":\"auto\",\"active_inspect\":\"auto\",\"active_multi\":null,\"active_scroll\":\"auto\",\"active_tap\":\"auto\",\"tools\":[{\"id\":\"2060\",\"type\":\"PanTool\"},{\"id\":\"2061\",\"type\":\"WheelZoomTool\"},{\"id\":\"2062\",\"type\":\"BoxZoomTool\"},{\"id\":\"2063\",\"type\":\"SaveTool\"},{\"id\":\"2064\",\"type\":\"ResetTool\"},{\"id\":\"2065\",\"type\":\"HelpTool\"}]},\"id\":\"2066\",\"type\":\"Toolbar\"},{\"attributes\":{\"source\":{\"id\":\"2088\",\"type\":\"ColumnDataSource\"}},\"id\":\"2092\",\"type\":\"CDSView\"},{\"attributes\":{\"line_alpha\":0.1,\"line_color\":\"#1f77b4\",\"x\":{\"field\":\"x\"},\"y\":{\"field\":\"y\"}},\"id\":\"2090\",\"type\":\"Line\"},{\"attributes\":{\"axis_label\":\"price\",\"formatter\":{\"id\":\"2084\",\"type\":\"BasicTickFormatter\"},\"plot\":{\"id\":\"2040\",\"subtype\":\"Figure\",\"type\":\"Plot\"},\"ticker\":{\"id\":\"2051\",\"type\":\"BasicTicker\"}},\"id\":\"2050\",\"type\":\"LinearAxis\"},{\"attributes\":{},\"id\":\"2051\",\"type\":\"BasicTicker\"},{\"attributes\":{\"plot\":{\"id\":\"2040\",\"subtype\":\"Figure\",\"type\":\"Plot\"},\"ticker\":{\"id\":\"2051\",\"type\":\"BasicTicker\"}},\"id\":\"2054\",\"type\":\"Grid\"},{\"attributes\":{\"data_source\":{\"id\":\"2075\",\"type\":\"ColumnDataSource\"},\"glyph\":{\"id\":\"2076\",\"type\":\"Line\"},\"hover_glyph\":null,\"muted_glyph\":null,\"nonselection_glyph\":{\"id\":\"2077\",\"type\":\"Line\"},\"selection_glyph\":null,\"view\":{\"id\":\"2079\",\"type\":\"CDSView\"}},\"id\":\"2078\",\"type\":\"GlyphRenderer\"},{\"attributes\":{\"plot\":null,\"text\":\"Demand Curve\"},\"id\":\"2039\",\"type\":\"Title\"},{\"attributes\":{\"dimension\":1,\"plot\":{\"id\":\"2040\",\"subtype\":\"Figure\",\"type\":\"Plot\"},\"ticker\":{\"id\":\"2056\",\"type\":\"BasicTicker\"}},\"id\":\"2059\",\"type\":\"Grid\"},{\"attributes\":{\"items\":[{\"id\":\"2087\",\"type\":\"LegendItem\"},{\"id\":\"2101\",\"type\":\"LegendItem\"}],\"plot\":{\"id\":\"2040\",\"subtype\":\"Figure\",\"type\":\"Plot\"}},\"id\":\"2086\",\"type\":\"Legend\"},{\"attributes\":{},\"id\":\"2046\",\"type\":\"LinearScale\"},{\"attributes\":{},\"id\":\"2082\",\"type\":\"BasicTickFormatter\"},{\"attributes\":{\"overlay\":{\"id\":\"2068\",\"type\":\"BoxAnnotation\"}},\"id\":\"2062\",\"type\":\"BoxZoomTool\"},{\"attributes\":{},\"id\":\"2061\",\"type\":\"WheelZoomTool\"},{\"attributes\":{},\"id\":\"2060\",\"type\":\"PanTool\"},{\"attributes\":{\"bottom_units\":\"screen\",\"fill_alpha\":{\"value\":0.5},\"fill_color\":{\"value\":\"lightgrey\"},\"left_units\":\"screen\",\"level\":\"overlay\",\"line_alpha\":{\"value\":1.0},\"line_color\":{\"value\":\"black\"},\"line_dash\":[4,4],\"line_width\":{\"value\":2},\"plot\":null,\"render_mode\":\"css\",\"right_units\":\"screen\",\"top_units\":\"screen\"},\"id\":\"2068\",\"type\":\"BoxAnnotation\"},{\"attributes\":{\"callback\":null,\"data\":{\"x\":[10,20,30,40,50],\"y\":[100,80,60,40,20]},\"selected\":{\"id\":\"2099\",\"type\":\"Selection\"},\"selection_policy\":{\"id\":\"2098\",\"type\":\"UnionRenderers\"}},\"id\":\"2075\",\"type\":\"ColumnDataSource\"},{\"attributes\":{\"callback\":null,\"data\":{\"x\":[10,20,30,40,50],\"y\":[20,40,60,80,100]},\"selected\":{\"id\":\"2168\",\"type\":\"Selection\"},\"selection_policy\":{\"id\":\"2167\",\"type\":\"UnionRenderers\"}},\"id\":\"2088\",\"type\":\"ColumnDataSource\"},{\"attributes\":{},\"id\":\"2084\",\"type\":\"BasicTickFormatter\"},{\"attributes\":{\"line_color\":\"blue\",\"x\":{\"field\":\"x\"},\"y\":{\"field\":\"y\"}},\"id\":\"2089\",\"type\":\"Line\"},{\"attributes\":{},\"id\":\"2063\",\"type\":\"SaveTool\"},{\"attributes\":{},\"id\":\"2064\",\"type\":\"ResetTool\"}],\"root_ids\":[\"2040\"]},\"title\":\"Bokeh Application\",\"version\":\"1.0.4\"}};\n",
       "  var render_items = [{\"docid\":\"0c0390bb-4aac-49a9-9afa-d122145c9d51\",\"roots\":{\"2040\":\"5e7c77ed-a622-4e75-b3a9-3c304b2c847c\"}}];\n",
       "  root.Bokeh.embed.embed_items_notebook(docs_json, render_items);\n",
       "\n",
       "  }\n",
       "  if (root.Bokeh !== undefined) {\n",
       "    embed_document(root);\n",
       "  } else {\n",
       "    var attempts = 0;\n",
       "    var timer = setInterval(function(root) {\n",
       "      if (root.Bokeh !== undefined) {\n",
       "        embed_document(root);\n",
       "        clearInterval(timer);\n",
       "      }\n",
       "      attempts++;\n",
       "      if (attempts > 100) {\n",
       "        console.log(\"Bokeh: ERROR: Unable to run BokehJS code because BokehJS library is missing\");\n",
       "        clearInterval(timer);\n",
       "      }\n",
       "    }, 10, root)\n",
       "  }\n",
       "})(window);"
      ],
      "application/vnd.bokehjs_exec.v0+json": ""
     },
     "metadata": {
      "application/vnd.bokehjs_exec.v0+json": {
       "id": "2040"
      }
     },
     "output_type": "display_data"
    }
   ],
   "source": [
    "p = plt.figure(title = 'Demand Curve', x_axis_label='price', y_axis_label='demand')\n",
    "\n",
    "price = [10,20,30,40,50]\n",
    "demand = [100,80,60,40,20]\n",
    "supply = [20,40,60,80,100]\n",
    "p.line(price,demand,color = 'red',legend = 'demand')\n",
    "p.line(price,supply,color = 'blue',legend = 'supply')\n",
    "plt.show(p)\n",
    "\n",
    "\n"
   ]
  },
  {
   "cell_type": "code",
   "execution_count": null,
   "metadata": {},
   "outputs": [],
   "source": [
    "#1980\n",
    "#1990 \n",
    "#2000\n",
    "#2010\n",
    "#2019\n",
    "\n",
    "dates = {19800101:19891231,19900101:19991231,20000101:20091231,20100101:20190812}\n",
    "\n",
    "def search(articleName,dates):\n",
    "    has_more = True\n",
    "    count = 0\n",
    "    results = list()\n",
    "    for i in dates.keys():\n",
    "        pages = 0\n",
    "        while has_more:\n",
    "            params = {\n",
    "            'q':articleName,\n",
    "            'api-key':key,\n",
    "            'begin_date':str(i)\n",
    "            'end_date':str(dates[i])\n",
    "            'page':str(pages)\n",
    "            }\n",
    "            link = 'https://api.nytimes.com/svc/search/v2/articlesearch.json '\n",
    "            r = requests.get(link,params)\n",
    "            if r.status_code != 200:\n",
    "                return \"Error: Error code %d\" % r.status_code\n",
    "            r_json = r.json()\n",
    "            hits = int(r_json['meta']['hits'])\n",
    "            currPage = int(r_json['meta']['offset'])\n",
    "            if (currPage+1)*10 < hits:\n",
    "                has_more = True\n",
    "                pages += 1\n",
    "            else:\n",
    "                has_more = False      \n",
    "            results.extend(r_json['results'])\n",
    "            time.sleep(6)\n",
    "    return results"
   ]
  },
  {
   "cell_type": "code",
   "execution_count": 67,
   "metadata": {
    "ExecuteTime": {
     "end_time": "2019-08-12T20:06:52.968925Z",
     "start_time": "2019-08-12T20:06:52.961944Z"
    }
   },
   "outputs": [],
   "source": [
    "\n",
    "def countOccurances(articleName,dates):\n",
    "    results = list()\n",
    "    for i in dates.keys():\n",
    "        params = {\n",
    "        'q':articleName,\n",
    "        'api-key':key,\n",
    "        'begin_date':str(i),\n",
    "        'end_date':str(dates[i])\n",
    "        }\n",
    "        link = 'https://api.nytimes.com/svc/search/v2/articlesearch.json'\n",
    "        r = requests.get(link,params)\n",
    "        if r.status_code != 200:\n",
    "            return \"Error: Error code %d\" % r.status_code\n",
    "        r_json = r.json()\n",
    "        hits = int(r_json['response']['meta']['hits'])\n",
    "        results.append(hits)\n",
    "        time.sleep(6)\n",
    "    return results"
   ]
  },
  {
   "cell_type": "code",
   "execution_count": 90,
   "metadata": {
    "ExecuteTime": {
     "end_time": "2019-08-12T20:18:34.315176Z",
     "start_time": "2019-08-12T20:18:34.310190Z"
    }
   },
   "outputs": [],
   "source": [
    "def parseDate(dates):\n",
    "    result = list()\n",
    "    for i in dates.keys():\n",
    "        string = str(i)[:4] + 's'\n",
    "        result.append(string)\n",
    "    return result"
   ]
  },
  {
   "cell_type": "code",
   "execution_count": 94,
   "metadata": {
    "ExecuteTime": {
     "end_time": "2019-08-12T20:21:55.188254Z",
     "start_time": "2019-08-12T20:21:55.183268Z"
    }
   },
   "outputs": [],
   "source": [
    "def plotBar(query,dates):\n",
    "    results = countOccurances(query,dates)\n",
    "    p = plt.figure(title = 'Mentions of '+ query +' in different decades', x_axis_label='Decades', y_axis_label='Mentions',x_range=parseDate(dates))\n",
    "    p.vbar( x = parseDate(dates), width=0.5, bottom=0,top = results,color=\"crimson\")\n",
    "    plt.show(p)"
   ]
  },
  {
   "cell_type": "code",
   "execution_count": 92,
   "metadata": {
    "ExecuteTime": {
     "end_time": "2019-08-12T20:19:21.214748Z",
     "start_time": "2019-08-12T20:18:55.528848Z"
    }
   },
   "outputs": [
    {
     "data": {
      "text/html": [
       "\n",
       "\n",
       "\n",
       "\n",
       "\n",
       "\n",
       "  <div class=\"bk-root\" id=\"2ce57080-9b89-4f4f-8805-5ca827efef6d\" data-root-id=\"3482\"></div>\n"
      ]
     },
     "metadata": {},
     "output_type": "display_data"
    },
    {
     "data": {
      "application/javascript": [
       "(function(root) {\n",
       "  function embed_document(root) {\n",
       "    \n",
       "  var docs_json = {\"e0f84dc3-2257-43a4-8616-4f515515b391\":{\"roots\":{\"references\":[{\"attributes\":{\"below\":[{\"id\":\"3492\",\"type\":\"CategoricalAxis\"}],\"left\":[{\"id\":\"3496\",\"type\":\"LinearAxis\"}],\"renderers\":[{\"id\":\"3492\",\"type\":\"CategoricalAxis\"},{\"id\":\"3495\",\"type\":\"Grid\"},{\"id\":\"3496\",\"type\":\"LinearAxis\"},{\"id\":\"3500\",\"type\":\"Grid\"},{\"id\":\"3509\",\"type\":\"BoxAnnotation\"},{\"id\":\"3519\",\"type\":\"GlyphRenderer\"}],\"title\":{\"id\":\"3481\",\"type\":\"Title\"},\"toolbar\":{\"id\":\"3507\",\"type\":\"Toolbar\"},\"x_range\":{\"id\":\"3484\",\"type\":\"FactorRange\"},\"x_scale\":{\"id\":\"3488\",\"type\":\"CategoricalScale\"},\"y_range\":{\"id\":\"3486\",\"type\":\"DataRange1d\"},\"y_scale\":{\"id\":\"3490\",\"type\":\"LinearScale\"}},\"id\":\"3482\",\"subtype\":\"Figure\",\"type\":\"Plot\"},{\"attributes\":{\"overlay\":{\"id\":\"3509\",\"type\":\"BoxAnnotation\"}},\"id\":\"3503\",\"type\":\"BoxZoomTool\"},{\"attributes\":{},\"id\":\"3501\",\"type\":\"PanTool\"},{\"attributes\":{\"fill_color\":{\"value\":\"crimson\"},\"line_color\":{\"value\":\"crimson\"},\"top\":{\"field\":\"top\"},\"width\":{\"value\":0.5},\"x\":{\"field\":\"x\"}},\"id\":\"3517\",\"type\":\"VBar\"},{\"attributes\":{\"axis_label\":\"Decades\",\"formatter\":{\"id\":\"3641\",\"type\":\"CategoricalTickFormatter\"},\"plot\":{\"id\":\"3482\",\"subtype\":\"Figure\",\"type\":\"Plot\"},\"ticker\":{\"id\":\"3493\",\"type\":\"CategoricalTicker\"}},\"id\":\"3492\",\"type\":\"CategoricalAxis\"},{\"attributes\":{},\"id\":\"3639\",\"type\":\"BasicTickFormatter\"},{\"attributes\":{},\"id\":\"3506\",\"type\":\"HelpTool\"},{\"attributes\":{\"plot\":null,\"text\":\"Mentions of King Crimson in different decades\"},\"id\":\"3481\",\"type\":\"Title\"},{\"attributes\":{},\"id\":\"3642\",\"type\":\"UnionRenderers\"},{\"attributes\":{},\"id\":\"3504\",\"type\":\"SaveTool\"},{\"attributes\":{\"fill_alpha\":{\"value\":0.1},\"fill_color\":{\"value\":\"#1f77b4\"},\"line_alpha\":{\"value\":0.1},\"line_color\":{\"value\":\"#1f77b4\"},\"top\":{\"field\":\"top\"},\"width\":{\"value\":0.5},\"x\":{\"field\":\"x\"}},\"id\":\"3518\",\"type\":\"VBar\"},{\"attributes\":{\"active_drag\":\"auto\",\"active_inspect\":\"auto\",\"active_multi\":null,\"active_scroll\":\"auto\",\"active_tap\":\"auto\",\"tools\":[{\"id\":\"3501\",\"type\":\"PanTool\"},{\"id\":\"3502\",\"type\":\"WheelZoomTool\"},{\"id\":\"3503\",\"type\":\"BoxZoomTool\"},{\"id\":\"3504\",\"type\":\"SaveTool\"},{\"id\":\"3505\",\"type\":\"ResetTool\"},{\"id\":\"3506\",\"type\":\"HelpTool\"}]},\"id\":\"3507\",\"type\":\"Toolbar\"},{\"attributes\":{},\"id\":\"3490\",\"type\":\"LinearScale\"},{\"attributes\":{},\"id\":\"3505\",\"type\":\"ResetTool\"},{\"attributes\":{},\"id\":\"3488\",\"type\":\"CategoricalScale\"},{\"attributes\":{\"callback\":null,\"data\":{\"top\":[172,157,278,180],\"x\":[\"1980s\",\"1990s\",\"2000s\",\"2010s\"]},\"selected\":{\"id\":\"3643\",\"type\":\"Selection\"},\"selection_policy\":{\"id\":\"3642\",\"type\":\"UnionRenderers\"}},\"id\":\"3516\",\"type\":\"ColumnDataSource\"},{\"attributes\":{\"callback\":null},\"id\":\"3486\",\"type\":\"DataRange1d\"},{\"attributes\":{\"dimension\":1,\"plot\":{\"id\":\"3482\",\"subtype\":\"Figure\",\"type\":\"Plot\"},\"ticker\":{\"id\":\"3497\",\"type\":\"BasicTicker\"}},\"id\":\"3500\",\"type\":\"Grid\"},{\"attributes\":{},\"id\":\"3497\",\"type\":\"BasicTicker\"},{\"attributes\":{\"plot\":{\"id\":\"3482\",\"subtype\":\"Figure\",\"type\":\"Plot\"},\"ticker\":{\"id\":\"3493\",\"type\":\"CategoricalTicker\"}},\"id\":\"3495\",\"type\":\"Grid\"},{\"attributes\":{\"source\":{\"id\":\"3516\",\"type\":\"ColumnDataSource\"}},\"id\":\"3520\",\"type\":\"CDSView\"},{\"attributes\":{},\"id\":\"3643\",\"type\":\"Selection\"},{\"attributes\":{\"bottom_units\":\"screen\",\"fill_alpha\":{\"value\":0.5},\"fill_color\":{\"value\":\"lightgrey\"},\"left_units\":\"screen\",\"level\":\"overlay\",\"line_alpha\":{\"value\":1.0},\"line_color\":{\"value\":\"black\"},\"line_dash\":[4,4],\"line_width\":{\"value\":2},\"plot\":null,\"render_mode\":\"css\",\"right_units\":\"screen\",\"top_units\":\"screen\"},\"id\":\"3509\",\"type\":\"BoxAnnotation\"},{\"attributes\":{\"callback\":null,\"factors\":[\"1980s\",\"1990s\",\"2000s\",\"2010s\"]},\"id\":\"3484\",\"type\":\"FactorRange\"},{\"attributes\":{},\"id\":\"3493\",\"type\":\"CategoricalTicker\"},{\"attributes\":{},\"id\":\"3641\",\"type\":\"CategoricalTickFormatter\"},{\"attributes\":{\"data_source\":{\"id\":\"3516\",\"type\":\"ColumnDataSource\"},\"glyph\":{\"id\":\"3517\",\"type\":\"VBar\"},\"hover_glyph\":null,\"muted_glyph\":null,\"nonselection_glyph\":{\"id\":\"3518\",\"type\":\"VBar\"},\"selection_glyph\":null,\"view\":{\"id\":\"3520\",\"type\":\"CDSView\"}},\"id\":\"3519\",\"type\":\"GlyphRenderer\"},{\"attributes\":{\"axis_label\":\"Mentions\",\"formatter\":{\"id\":\"3639\",\"type\":\"BasicTickFormatter\"},\"plot\":{\"id\":\"3482\",\"subtype\":\"Figure\",\"type\":\"Plot\"},\"ticker\":{\"id\":\"3497\",\"type\":\"BasicTicker\"}},\"id\":\"3496\",\"type\":\"LinearAxis\"},{\"attributes\":{},\"id\":\"3502\",\"type\":\"WheelZoomTool\"}],\"root_ids\":[\"3482\"]},\"title\":\"Bokeh Application\",\"version\":\"1.0.4\"}};\n",
       "  var render_items = [{\"docid\":\"e0f84dc3-2257-43a4-8616-4f515515b391\",\"roots\":{\"3482\":\"2ce57080-9b89-4f4f-8805-5ca827efef6d\"}}];\n",
       "  root.Bokeh.embed.embed_items_notebook(docs_json, render_items);\n",
       "\n",
       "  }\n",
       "  if (root.Bokeh !== undefined) {\n",
       "    embed_document(root);\n",
       "  } else {\n",
       "    var attempts = 0;\n",
       "    var timer = setInterval(function(root) {\n",
       "      if (root.Bokeh !== undefined) {\n",
       "        embed_document(root);\n",
       "        clearInterval(timer);\n",
       "      }\n",
       "      attempts++;\n",
       "      if (attempts > 100) {\n",
       "        console.log(\"Bokeh: ERROR: Unable to run BokehJS code because BokehJS library is missing\");\n",
       "        clearInterval(timer);\n",
       "      }\n",
       "    }, 10, root)\n",
       "  }\n",
       "})(window);"
      ],
      "application/vnd.bokehjs_exec.v0+json": ""
     },
     "metadata": {
      "application/vnd.bokehjs_exec.v0+json": {
       "id": "3482"
      }
     },
     "output_type": "display_data"
    }
   ],
   "source": [
    "dates = {19800101:19891231,19900101:19991231,20000101:20091231,20100101:20190812}\n",
    "\n",
    "plotBar('King Crimson',dates)"
   ]
  },
  {
   "cell_type": "code",
   "execution_count": 95,
   "metadata": {
    "ExecuteTime": {
     "end_time": "2019-08-12T20:22:36.247547Z",
     "start_time": "2019-08-12T20:21:57.736952Z"
    }
   },
   "outputs": [
    {
     "data": {
      "text/html": [
       "\n",
       "\n",
       "\n",
       "\n",
       "\n",
       "\n",
       "  <div class=\"bk-root\" id=\"0c95b5dd-bd8f-42cc-bc48-1ddfa6e58d47\" data-root-id=\"3914\"></div>\n"
      ]
     },
     "metadata": {},
     "output_type": "display_data"
    },
    {
     "data": {
      "application/javascript": [
       "(function(root) {\n",
       "  function embed_document(root) {\n",
       "    \n",
       "  var docs_json = {\"16a00215-eab4-41ed-bbad-084a5a80e5e1\":{\"roots\":{\"references\":[{\"attributes\":{\"below\":[{\"id\":\"3924\",\"type\":\"CategoricalAxis\"}],\"left\":[{\"id\":\"3928\",\"type\":\"LinearAxis\"}],\"renderers\":[{\"id\":\"3924\",\"type\":\"CategoricalAxis\"},{\"id\":\"3927\",\"type\":\"Grid\"},{\"id\":\"3928\",\"type\":\"LinearAxis\"},{\"id\":\"3932\",\"type\":\"Grid\"},{\"id\":\"3941\",\"type\":\"BoxAnnotation\"},{\"id\":\"3951\",\"type\":\"GlyphRenderer\"}],\"title\":{\"id\":\"3913\",\"type\":\"Title\"},\"toolbar\":{\"id\":\"3939\",\"type\":\"Toolbar\"},\"x_range\":{\"id\":\"3916\",\"type\":\"FactorRange\"},\"x_scale\":{\"id\":\"3920\",\"type\":\"CategoricalScale\"},\"y_range\":{\"id\":\"3918\",\"type\":\"DataRange1d\"},\"y_scale\":{\"id\":\"3922\",\"type\":\"LinearScale\"}},\"id\":\"3914\",\"subtype\":\"Figure\",\"type\":\"Plot\"},{\"attributes\":{},\"id\":\"4090\",\"type\":\"UnionRenderers\"},{\"attributes\":{},\"id\":\"4091\",\"type\":\"Selection\"},{\"attributes\":{},\"id\":\"3922\",\"type\":\"LinearScale\"},{\"attributes\":{},\"id\":\"3929\",\"type\":\"BasicTicker\"},{\"attributes\":{\"callback\":null,\"factors\":[\"1960s\",\"1970s\",\"1980s\",\"1990s\",\"2000s\",\"2010s\"]},\"id\":\"3916\",\"type\":\"FactorRange\"},{\"attributes\":{},\"id\":\"3925\",\"type\":\"CategoricalTicker\"},{\"attributes\":{\"callback\":null,\"data\":{\"top\":[20,211,172,157,278,180],\"x\":[\"1960s\",\"1970s\",\"1980s\",\"1990s\",\"2000s\",\"2010s\"]},\"selected\":{\"id\":\"4091\",\"type\":\"Selection\"},\"selection_policy\":{\"id\":\"4090\",\"type\":\"UnionRenderers\"}},\"id\":\"3948\",\"type\":\"ColumnDataSource\"},{\"attributes\":{},\"id\":\"3934\",\"type\":\"WheelZoomTool\"},{\"attributes\":{},\"id\":\"3933\",\"type\":\"PanTool\"},{\"attributes\":{\"overlay\":{\"id\":\"3941\",\"type\":\"BoxAnnotation\"}},\"id\":\"3935\",\"type\":\"BoxZoomTool\"},{\"attributes\":{\"plot\":null,\"text\":\"Mentions of King Crimson in different decades\"},\"id\":\"3913\",\"type\":\"Title\"},{\"attributes\":{\"axis_label\":\"Decades\",\"formatter\":{\"id\":\"4089\",\"type\":\"CategoricalTickFormatter\"},\"plot\":{\"id\":\"3914\",\"subtype\":\"Figure\",\"type\":\"Plot\"},\"ticker\":{\"id\":\"3925\",\"type\":\"CategoricalTicker\"}},\"id\":\"3924\",\"type\":\"CategoricalAxis\"},{\"attributes\":{},\"id\":\"4089\",\"type\":\"CategoricalTickFormatter\"},{\"attributes\":{},\"id\":\"4087\",\"type\":\"BasicTickFormatter\"},{\"attributes\":{\"bottom_units\":\"screen\",\"fill_alpha\":{\"value\":0.5},\"fill_color\":{\"value\":\"lightgrey\"},\"left_units\":\"screen\",\"level\":\"overlay\",\"line_alpha\":{\"value\":1.0},\"line_color\":{\"value\":\"black\"},\"line_dash\":[4,4],\"line_width\":{\"value\":2},\"plot\":null,\"render_mode\":\"css\",\"right_units\":\"screen\",\"top_units\":\"screen\"},\"id\":\"3941\",\"type\":\"BoxAnnotation\"},{\"attributes\":{},\"id\":\"3920\",\"type\":\"CategoricalScale\"},{\"attributes\":{\"data_source\":{\"id\":\"3948\",\"type\":\"ColumnDataSource\"},\"glyph\":{\"id\":\"3949\",\"type\":\"VBar\"},\"hover_glyph\":null,\"muted_glyph\":null,\"nonselection_glyph\":{\"id\":\"3950\",\"type\":\"VBar\"},\"selection_glyph\":null,\"view\":{\"id\":\"3952\",\"type\":\"CDSView\"}},\"id\":\"3951\",\"type\":\"GlyphRenderer\"},{\"attributes\":{},\"id\":\"3937\",\"type\":\"ResetTool\"},{\"attributes\":{\"fill_color\":{\"value\":\"crimson\"},\"line_color\":{\"value\":\"crimson\"},\"top\":{\"field\":\"top\"},\"width\":{\"value\":0.5},\"x\":{\"field\":\"x\"}},\"id\":\"3949\",\"type\":\"VBar\"},{\"attributes\":{},\"id\":\"3938\",\"type\":\"HelpTool\"},{\"attributes\":{\"source\":{\"id\":\"3948\",\"type\":\"ColumnDataSource\"}},\"id\":\"3952\",\"type\":\"CDSView\"},{\"attributes\":{\"active_drag\":\"auto\",\"active_inspect\":\"auto\",\"active_multi\":null,\"active_scroll\":\"auto\",\"active_tap\":\"auto\",\"tools\":[{\"id\":\"3933\",\"type\":\"PanTool\"},{\"id\":\"3934\",\"type\":\"WheelZoomTool\"},{\"id\":\"3935\",\"type\":\"BoxZoomTool\"},{\"id\":\"3936\",\"type\":\"SaveTool\"},{\"id\":\"3937\",\"type\":\"ResetTool\"},{\"id\":\"3938\",\"type\":\"HelpTool\"}]},\"id\":\"3939\",\"type\":\"Toolbar\"},{\"attributes\":{\"plot\":{\"id\":\"3914\",\"subtype\":\"Figure\",\"type\":\"Plot\"},\"ticker\":{\"id\":\"3925\",\"type\":\"CategoricalTicker\"}},\"id\":\"3927\",\"type\":\"Grid\"},{\"attributes\":{\"fill_alpha\":{\"value\":0.1},\"fill_color\":{\"value\":\"#1f77b4\"},\"line_alpha\":{\"value\":0.1},\"line_color\":{\"value\":\"#1f77b4\"},\"top\":{\"field\":\"top\"},\"width\":{\"value\":0.5},\"x\":{\"field\":\"x\"}},\"id\":\"3950\",\"type\":\"VBar\"},{\"attributes\":{},\"id\":\"3936\",\"type\":\"SaveTool\"},{\"attributes\":{\"callback\":null},\"id\":\"3918\",\"type\":\"DataRange1d\"},{\"attributes\":{\"dimension\":1,\"plot\":{\"id\":\"3914\",\"subtype\":\"Figure\",\"type\":\"Plot\"},\"ticker\":{\"id\":\"3929\",\"type\":\"BasicTicker\"}},\"id\":\"3932\",\"type\":\"Grid\"},{\"attributes\":{\"axis_label\":\"Mentions\",\"formatter\":{\"id\":\"4087\",\"type\":\"BasicTickFormatter\"},\"plot\":{\"id\":\"3914\",\"subtype\":\"Figure\",\"type\":\"Plot\"},\"ticker\":{\"id\":\"3929\",\"type\":\"BasicTicker\"}},\"id\":\"3928\",\"type\":\"LinearAxis\"}],\"root_ids\":[\"3914\"]},\"title\":\"Bokeh Application\",\"version\":\"1.0.4\"}};\n",
       "  var render_items = [{\"docid\":\"16a00215-eab4-41ed-bbad-084a5a80e5e1\",\"roots\":{\"3914\":\"0c95b5dd-bd8f-42cc-bc48-1ddfa6e58d47\"}}];\n",
       "  root.Bokeh.embed.embed_items_notebook(docs_json, render_items);\n",
       "\n",
       "  }\n",
       "  if (root.Bokeh !== undefined) {\n",
       "    embed_document(root);\n",
       "  } else {\n",
       "    var attempts = 0;\n",
       "    var timer = setInterval(function(root) {\n",
       "      if (root.Bokeh !== undefined) {\n",
       "        embed_document(root);\n",
       "        clearInterval(timer);\n",
       "      }\n",
       "      attempts++;\n",
       "      if (attempts > 100) {\n",
       "        console.log(\"Bokeh: ERROR: Unable to run BokehJS code because BokehJS library is missing\");\n",
       "        clearInterval(timer);\n",
       "      }\n",
       "    }, 10, root)\n",
       "  }\n",
       "})(window);"
      ],
      "application/vnd.bokehjs_exec.v0+json": ""
     },
     "metadata": {
      "application/vnd.bokehjs_exec.v0+json": {
       "id": "3914"
      }
     },
     "output_type": "display_data"
    }
   ],
   "source": [
    "dates = {19600101:19691231,19700101:19791231,19800101:19891231,19900101:19991231,20000101:20091231,20100101:20190812}\n",
    "\n",
    "plotBar('King Crimson',dates)"
   ]
  },
  {
   "cell_type": "code",
   "execution_count": null,
   "metadata": {},
   "outputs": [],
   "source": []
  }
 ],
 "metadata": {
  "kernelspec": {
   "display_name": "Python 3",
   "language": "python",
   "name": "python3"
  },
  "language_info": {
   "codemirror_mode": {
    "name": "ipython",
    "version": 3
   },
   "file_extension": ".py",
   "mimetype": "text/x-python",
   "name": "python",
   "nbconvert_exporter": "python",
   "pygments_lexer": "ipython3",
   "version": "3.7.3"
  },
  "latex_envs": {
   "LaTeX_envs_menu_present": true,
   "autoclose": false,
   "autocomplete": true,
   "bibliofile": "biblio.bib",
   "cite_by": "apalike",
   "current_citInitial": 1,
   "eqLabelWithNumbers": true,
   "eqNumInitial": 1,
   "hotkeys": {
    "equation": "Ctrl-E",
    "itemize": "Ctrl-I"
   },
   "labels_anchors": false,
   "latex_user_defs": false,
   "report_style_numbering": false,
   "user_envs_cfg": false
  },
  "toc": {
   "base_numbering": 1,
   "nav_menu": {},
   "number_sections": true,
   "sideBar": true,
   "skip_h1_title": false,
   "title_cell": "Table of Contents",
   "title_sidebar": "Contents",
   "toc_cell": false,
   "toc_position": {},
   "toc_section_display": true,
   "toc_window_display": false
  },
  "varInspector": {
   "cols": {
    "lenName": 16,
    "lenType": 16,
    "lenVar": 40
   },
   "kernels_config": {
    "python": {
     "delete_cmd_postfix": "",
     "delete_cmd_prefix": "del ",
     "library": "var_list.py",
     "varRefreshCmd": "print(var_dic_list())"
    },
    "r": {
     "delete_cmd_postfix": ") ",
     "delete_cmd_prefix": "rm(",
     "library": "var_list.r",
     "varRefreshCmd": "cat(var_dic_list()) "
    }
   },
   "position": {
    "height": "298.86px",
    "left": "561.22px",
    "right": "20px",
    "top": "45px",
    "width": "582px"
   },
   "types_to_exclude": [
    "module",
    "function",
    "builtin_function_or_method",
    "instance",
    "_Feature"
   ],
   "window_display": false
  }
 },
 "nbformat": 4,
 "nbformat_minor": 2
}
