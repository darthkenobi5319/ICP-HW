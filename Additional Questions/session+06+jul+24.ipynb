{
 "cells": [
  {
   "cell_type": "markdown",
   "metadata": {},
   "source": [
    "# Session 06\n",
    "\n",
    "Today's session was devoted to getting some more practice defining our own functions and learning the basics of obtaining data from the Web via webscraping. In particular, we covered:\n",
    "\n",
    "- (re)organizing our code using functions\n",
    "- having a function return multiple values\n",
    "- retrieving a web page from a server using requests\n",
    "- extracting information from HTML using BeautifulSoup"
   ]
  },
  {
   "cell_type": "code",
   "execution_count": null,
   "metadata": {
    "collapsed": true
   },
   "outputs": [],
   "source": [
    "# exercise: let us copy the simple contacts app we created last time \n",
    "# and let us reorganize the code using functions\n",
    "\n",
    "command = ''\n",
    "\n",
    "# create dictionary here!\n",
    "\n",
    "contacts = {}\n",
    "\n",
    "# below we define 4 different functions. to avoid confusion with the global variable\n",
    "# 'contacts', we decided we would name the argument these functions receive 'contacts_dict'\n",
    "# (for \"contacts_dictionary\").\n",
    "# we also decided that the functions that modify that dictionary will return the modified\n",
    "# version of the dictionary. the code that calls these functions will then store the new\n",
    "# version of the dictionary that it passed to these functions in its original location.\n",
    "\n",
    "# first function: add_contact\n",
    "\n",
    "def add_contact(contacts_dict):\n",
    "    name = input(\"Name: \")\n",
    "    number = input(\"Number: \")\n",
    "    contacts_dict[name] = number\n",
    "    return contacts_dict # return modified version of the argument we received\n",
    "\n",
    "# second function: update_contact\n",
    "\n",
    "def update_contact(contacts_dict):\n",
    "    name = input(\"Name of contact to update:\")\n",
    "    if name in contacts_dict.keys():\n",
    "        newnumber = input(\"New number for %s:\" % name)\n",
    "        contacts_dict[name] = newnumber\n",
    "    else:\n",
    "        print(\"Sorry, dude, wake up, I don't have a contact by that name!\")\n",
    "    return contacts_dict # return modified version of the argument we received\n",
    "\n",
    "        \n",
    "# third function: delete_contact\n",
    "\n",
    "def delete_contact(contacts_dict):\n",
    "    name = input(\"Name of contact to delete: \")\n",
    "    if name in contacts_dict.keys():\n",
    "        del contacts_dict[name]\n",
    "    else:\n",
    "        print(\"Sorry, mate, I couldn't find a contact with that name (%s)\" % name)\n",
    "    return contacts_dict # return modified version of the argument we received\n",
    "\n",
    "\n",
    "# fourth: search_for_contact\n",
    "\n",
    "def search_for_contact(contacts_dict):\n",
    "    name = input(\"Name to look up: \")\n",
    "    if name in contacts_dict.keys():\n",
    "        print(\"%s's number is %s\" % (name, contacts_dict[name]) )\n",
    "    else:\n",
    "        print(\"You wish!!!! You don't have their number, you are dreaming! ;) \")\n",
    "    return # unlike the functions above, this function has nothing to return!\n",
    "\n",
    "\n",
    "# now we simply replace the code blocks that we moved into our functions above with\n",
    "# calls to each of the functions. notice how much clearer and better organized our\n",
    "# program becomes as a result!\n",
    "\n",
    "while command != 'q': # 'q' is for quitting the program\n",
    "    \n",
    "    if command == 'a': # add contact\n",
    "        \n",
    "        # pass dictionary to the function, the function returns a modified version of the \n",
    "        # dictionary and we save that modified version back in contacts\n",
    "        contacts = add_contact(contacts)\n",
    "        \n",
    "    elif command == 'u': # update contact\n",
    "        \n",
    "        # pass dictionary to the function, the function returns a modified version of the \n",
    "        # dictionary and we save that modified version back in contacts\n",
    "        contacts = update_contact(contacts)\n",
    "        \n",
    "    elif command == 'd': # delete contact\n",
    "\n",
    "        # pass dictionary to the function, the function returns a modified version of the \n",
    "        # dictionary and we save that modified version back in contacts\n",
    "        contacts = delete_contact(contacts)\n",
    "        \n",
    "    elif command == 's': # search for contact\n",
    "        \n",
    "        # this function doesn't modify contacts!\n",
    "        search_for_contact(contacts)\n",
    "        \n",
    "    else: # any other key pressed\n",
    "        print(\"Commands accepted: A, U, D, S or Q.\")\n",
    "        \n",
    "    command = input(\"What do you want to do? [A]dd, [U]pdate, [D]elete, [S]earch or [Q]uit: \")\n",
    "    \n",
    "    command = command.lower()\n"
   ]
  },
  {
   "cell_type": "markdown",
   "metadata": {},
   "source": [
    "The approach we adopted above is the generally correct one: a function receives the information it needs through arguments and returns any new information.\n",
    "\n",
    "Unfortunately, Python is a bit inconsistent in how it function arguments are treated. Arguments that are strings and numbers cannot be modified by the functions that receive those arguments. However, collections and other more complicated that types (including dictionaries, as in our code above) *can* be modified by the function that receives them as arguments. This is rather inconsistent and confusing, so I recommend always using the approach we used above. (But please be aware that, when the arguments passed to a function are (e.g.) a list or a dictionary, any changes made inside a function to those arguments will effectively outlast the execution of the function.)"
   ]
  },
  {
   "cell_type": "code",
   "execution_count": 1,
   "metadata": {
    "collapsed": true
   },
   "outputs": [],
   "source": [
    "# what about if a function needs to return multiple arguments? easy!\n",
    "\n",
    "# this function takes 2 numbers as arguments and returns 4 values:\n",
    "# - sum of those numbers\n",
    "# - subtraction of those numbers\n",
    "# - multiplication\n",
    "# - division\n",
    "\n",
    "def silly_arithmetic(x, y):\n",
    "    sum_xy = x + y\n",
    "    sub_xy = x - y\n",
    "    mult_xy = x * y\n",
    "    div_xy = x / y\n",
    "    \n",
    "    return sum_xy, sub_xy, mult_xy, div_xy\n",
    "\n"
   ]
  },
  {
   "cell_type": "code",
   "execution_count": 5,
   "metadata": {},
   "outputs": [
    {
     "name": "stdout",
     "output_type": "stream",
     "text": [
      "Number 1: 40\n",
      "Number 2: 30\n",
      "(70.0, 10.0, 1200.0, 1.3333333333333333)\n",
      "The sum of 40.000000 and 30.000000 is 70.000000\n"
     ]
    }
   ],
   "source": [
    "# how does the code that calls the function use/receive those returned values? \n",
    "# there are two approaches.\n",
    "\n",
    "# First approach:\n",
    "n1 = float( input(\"Number 1: \") )\n",
    "n2 = float( input(\"Number 2: \") )\n",
    "\n",
    "results = silly_arithmetic(n1, n2)\n",
    "print(results)\n",
    "print(\"The sum of %f and %f is %f\" % (n1, n2, results[0] ) )"
   ]
  },
  {
   "cell_type": "code",
   "execution_count": 6,
   "metadata": {},
   "outputs": [
    {
     "name": "stdout",
     "output_type": "stream",
     "text": [
      "Number 1: 40\n",
      "Number 2: 20\n",
      "The product of 40.000000 and 20.000000 is 800.000000\n"
     ]
    }
   ],
   "source": [
    "# second approach:\n",
    "\n",
    "n1 = float( input(\"Number 1: \") )\n",
    "n2 = float( input(\"Number 2: \") )\n",
    "\n",
    "# wow, we can assign to 4 variables in a single statement!\n",
    "sum_n1n2, sub_n1n2, mul_n1n2, div_n1n2 = silly_arithmetic(n1, n2) # for this to work the number of values returned by the function on the RHS must exactly match the number of variables on the LHS of the = operator\n",
    "print(\"The product of %f and %f is %f\" % (n1, n2, mul_n1n2 ) )"
   ]
  },
  {
   "cell_type": "markdown",
   "metadata": {},
   "source": [
    "## Intro to web scraping"
   ]
  },
  {
   "cell_type": "code",
   "execution_count": 10,
   "metadata": {},
   "outputs": [
    {
     "name": "stdout",
     "output_type": "stream",
     "text": [
      "200\n"
     ]
    }
   ],
   "source": [
    "\n",
    "# we will always use the requests module, which we need to import\n",
    "import requests\n",
    "\n",
    "# retrieve a certain page by specifying its URL\n",
    "response = requests.get(\"http://pages.stern.nyu.edu/~marriaga\")\n",
    "\n",
    "# response object returned by requests.get contains two values we are interested in\n",
    "\n",
    "# the first is the .status_code, which should be 200 (meaning \"success\")\n",
    "print(response.status_code)"
   ]
  },
  {
   "cell_type": "code",
   "execution_count": 11,
   "metadata": {},
   "outputs": [
    {
     "name": "stdout",
     "output_type": "stream",
     "text": [
      "<HTML>\n",
      "<HEAD>\n",
      "<TITLE>Manuel Arriaga</TITLE>\n",
      "\n",
      "\n",
      "<meta charset=\"UTF-8\">\n",
      "\n",
      "<meta name=\"viewport\" content=\"width=device-width, initial-scale=1, maximum-scale=1\">\n",
      "\n",
      "<meta name=\"author\" CONTENT=\"Manuel Arriaga\">\n",
      "<meta name=\"keywords\" CONTENT=\"Manuel Arriaga\">\n",
      "<meta name=\"description\" CONTENT=\"Learn more about Manuel Arriaga's work and projects\">\n",
      "\n",
      "\n",
      "\n",
      "\n",
      "<meta property=\"og:title\"              content=\"Manuel Arriaga\" />\n",
      "<meta property=\"og:url\"                content=\"http://pages.stern.nyu.edu/~marriaga\" />\n",
      "<meta property=\"og:description\"        content=\"Manuel Arriaga\" />\n",
      "<meta property=\"og:image\"              content=\"http://pages.stern.nyu.edu/~marriaga/manuel-arriaga.jpg\"/>\n",
      "<meta property=\"og:type\"               content=\"website\" />\n",
      "<meta property=\"og:locale\"             content=\"en_US\"/>\n",
      "\n",
      "<link rel=\"stylesheet\" href=\"https://maxcdn.bootstrapcdn.com/bootstrap/3.3.7/css/bootstrap.min.css\">\n",
      "\n",
      "<link href=\"https://fonts.googleapis.com/css?family=Comfortaa\" rel=\"stylesheet\">\n",
      "\n",
      "\n",
      "<link type=\"text/css\" href=\"my.css\" rel=\"stylesheet\" />\n",
      "\n",
      "</HEAD>\n",
      "\n",
      "<BODY>\n",
      "\n",
      "<div class=\"container\" style=\"height: 100%;\">\n",
      "\n",
      "  <div class=\"row\">\n",
      "    \n",
      "    <div class=\"col-sm-12\">\n",
      "      <div class=\"foto\"><h1 class=\"vertically-center\">Manuel <br/> Arriaga</h1></div>\n",
      "    </div>      \n",
      "\n",
      "  </div>\n",
      "\n",
      "  <div class=\"row equal-height\" >\n",
      "\n",
      "    <div class=\"col-sm-4\">\n",
      "      \n",
      "      <h2 style=\"background-color: maroon;\">Academia</h2> \n",
      "      \n",
      "      <p>I am currently a clinical assistant professor at\n",
      "      <a href=\"http://www.stern.nyu.edu/\" target=\"_blank\">NYU Stern</a> and a fellow\n",
      "      of the <a href=\"http://www.cambridgedigitalinnovation.com/\" target=\"_blank\">Center for\n",
      "      Digital Innovation</a>. Between 2010 and 2013, I served on the\n",
      "      faculty of the University of Cambridge. I then joined NYU Stern\n",
      "      in 2014 as a visiting research professor.</p>\n",
      "\n",
      "      <p>For most of my career, I have focused on topics related to\n",
      "      digital technology.</p>\n",
      "    \n",
      "    </div>\n",
      "\n",
      "    <div  class=\"col-sm-4\">\n",
      "\n",
      "      <h2 style=\"background-color: green;\">Writing</h2>\n",
      "      \n",
      "      <p>In recent years, my work has shifted towards exploring\n",
      "      innovative forms of civic participation. Back in 2014, I\n",
      "      published <a\n",
      "      href=\"http://www.amazon.com/Rebooting-Democracy-Citizens-Reinventing-Politics/dp/191019817X\">Rebooting\n",
      "      Democracy: A Citizen's Guide to Reinventing Politics</a>. I am\n",
      "      now finishing a second, related book on political discourse.</p>\n",
      "\n",
      "    </div>\n",
      "\n",
      "    <div  class=\"col-sm-4\" >\n",
      "      \n",
      "      <h2 style=\"background-color: darkblue;\">Activism</h2>\n",
      "      \n",
      "      <p>I am involved in an exciting new project in Portugal. <a\n",
      "      href=\"http://www.forumdoscidadaos.pt/en\">Fórum dos Cidadãos</a>\n",
      "      aims to bring the informed, reasoned voice of ordinary citizens\n",
      "      to the public debate on important topics.</p>\n",
      "      \n",
      "      <p>Here in the US, I serve on the Board of Directors of the <a\n",
      "      href=\"http://www.policyjurygroup.org/\" target=\"_blank\">Policy\n",
      "      Jury Group</a>, an organization doing amazing work to promote\n",
      "      citizen deliberation at different levels of government.</p>\n",
      "      \n",
      "    </div>\n",
      "  </div> <!-- closes row -->\n",
      "  \n",
      "  <div class=\"row equal-height\"> <!--  second row -->\n",
      "    \n",
      "    <div  class=\"col-sm-4\">\n",
      "      \n",
      "      <h2 style=\"background-color: #E67451;\">Software</h2>\n",
      "      \n",
      "      <p>You can find the code I have written over the years on <a\n",
      "      href=\"software\">this page</a>.</p> <p>Here is an old concept\n",
      "      paper describing an <a\n",
      "      href=\"http://pages.stern.nyu.edu/~marriaga/beyond-the-hfs.pdf\">alternative\n",
      "      way to organize personal documents</a> that inspired much of\n",
      "      that code.</p> \n",
      "      \n",
      "    </div>\n",
      "    \n",
      "    <div  class=\"col-sm-4\">\n",
      "\n",
      "      <h2 style=\"background-color: purple;\">Tonic Tapes</h2>\n",
      "      \n",
      "      <p>For those of you who are interested in the live music scene\n",
      "      here in NYC, you might enjoy <a\n",
      "      href=\"http://tonictapes.org/\">this small tribute to the historic\n",
      "      music club Tonic</a>.</p>\n",
      "      \n",
      "    </div>\n",
      "\n",
      "    <div  class=\"col-sm-4\">\n",
      "      \n",
      "      <h2 style=\"background-color: #BC8F8F;\">Underlined Press</h2>\n",
      "      \n",
      "      <p>Underlined Press is a service that will <a\n",
      "      href=\"http://underlinedpress.com/\">print a beautiful custom-made\n",
      "      book containing your favorite poems, prose fragments and other\n",
      "      texts</a>.</p>\n",
      "      \n",
      "    </div>\n",
      "</div>\n",
      "  \n",
      "  <div class=\"row\"> <!-- 3rd row; must NOT apply equal-height class to this final one, otherwise the <H2> (which has a background-color) will only span part of the horizontal width of the viewport -->\n",
      "    \n",
      "    <div  class=\"col-sm-12\">\n",
      "      \n",
      "      <h2 style=\"background-color: #307D7E;\">Email</h2>\n",
      "      \n",
      "      <p>marriaga @ stern . nyu . edu</p>\n",
      "\n",
      "\n",
      "    </div>\n",
      "    \n",
      "  </div> <!-- closes row -->\n",
      "  \n",
      "</div> <!-- closes container -->\n",
      "\n",
      "</BODY>\n",
      "\n",
      "</HTML>\n",
      "\n"
     ]
    }
   ],
   "source": [
    "# the other is the content of the page that was retrieved\n",
    "print(response.text)"
   ]
  },
  {
   "cell_type": "code",
   "execution_count": 13,
   "metadata": {
    "collapsed": true
   },
   "outputs": [],
   "source": [
    "# let us use the name 'html' instead, because that is what response.text contains\n",
    "html = response.text"
   ]
  },
  {
   "cell_type": "code",
   "execution_count": 14,
   "metadata": {},
   "outputs": [],
   "source": [
    "# to make sense of HTML and more easily extract information from it, we use the bs4 \n",
    "# (beautiful soup version 4) module\n",
    "\n",
    "# must import it first\n",
    "import bs4\n",
    "\n",
    "# then we create a \"soup\" object using that module's BeautifulSoup() function. It takes\n",
    "# two arguments: \n",
    "# - the HTML of the page we want to extract information from\n",
    "# - the string \"html.parser\", telling BeautifulSoup that this is indeed a HTML page and it should be interpreted as such\n",
    "soup = bs4.BeautifulSoup(html, \"html.parser\")"
   ]
  },
  {
   "cell_type": "code",
   "execution_count": 55,
   "metadata": {},
   "outputs": [
    {
     "name": "stdout",
     "output_type": "stream",
     "text": [
      "<class 'bs4.BeautifulSoup'>\n"
     ]
    }
   ],
   "source": [
    "# it returns an object of a special type that supports a number of useful functions\n",
    "print( type(soup) )"
   ]
  },
  {
   "cell_type": "code",
   "execution_count": 15,
   "metadata": {},
   "outputs": [
    {
     "name": "stdout",
     "output_type": "stream",
     "text": [
      "<title>Manuel Arriaga</title>\n"
     ]
    }
   ],
   "source": [
    "# The most important functions in BeautifulSoup are .find() and .find_all()\n",
    "\n",
    "# they both allow us to locate HTML elements on the page\n",
    "\n",
    "# if we want just the first matching element, we can use .find()\n",
    "print( soup.find('title') ) # gets the <TITLE></TITLE> element"
   ]
  },
  {
   "cell_type": "code",
   "execution_count": 16,
   "metadata": {},
   "outputs": [
    {
     "name": "stdout",
     "output_type": "stream",
     "text": [
      "Manuel Arriaga\n"
     ]
    }
   ],
   "source": [
    "# what if we want just the inner text inside the element? easy, ask for its .text:\n",
    "print( soup.find('title').text )"
   ]
  },
  {
   "cell_type": "code",
   "execution_count": 18,
   "metadata": {},
   "outputs": [
    {
     "name": "stdout",
     "output_type": "stream",
     "text": [
      "<h2 style=\"background-color: maroon;\">Academia</h2>\n",
      "<h2 style=\"background-color: green;\">Writing</h2>\n",
      "<h2 style=\"background-color: darkblue;\">Activism</h2>\n",
      "<h2 style=\"background-color: #E67451;\">Software</h2>\n",
      "<h2 style=\"background-color: purple;\">Tonic Tapes</h2>\n",
      "<h2 style=\"background-color: #BC8F8F;\">Underlined Press</h2>\n",
      "<h2 style=\"background-color: #307D7E;\">Email</h2>\n"
     ]
    }
   ],
   "source": [
    "# if we want all matching elements, we use .find_all()\n",
    "\n",
    "# here we get all 2nd level headings on the page (<H2></H2>)\n",
    "headings = soup.find_all('h2')\n",
    "# let us loop over the list returned by BeautifulSoup and print each of them\n",
    "for heading in headings:\n",
    "    print(heading)"
   ]
  },
  {
   "cell_type": "code",
   "execution_count": 54,
   "metadata": {},
   "outputs": [
    {
     "name": "stdout",
     "output_type": "stream",
     "text": [
      "<class 'bs4.element.Tag'>\n"
     ]
    }
   ],
   "source": [
    "# notice that each object returned by .find() and .find_all() is not just a string: instead,\n",
    "# it is a special BeautifulSoup object that can itself be queried/searched for the text it \n",
    "# contains, for its attributes and for other HTML elements nested inside it.\n",
    "\n",
    "print( type(headings[0]) ) # not a string!"
   ]
  },
  {
   "cell_type": "code",
   "execution_count": 19,
   "metadata": {},
   "outputs": [
    {
     "name": "stdout",
     "output_type": "stream",
     "text": [
      "Academia\n",
      "Writing\n",
      "Activism\n",
      "Software\n",
      "Tonic Tapes\n",
      "Underlined Press\n",
      "Email\n"
     ]
    }
   ],
   "source": [
    "# let us print just the text of each of these headings\n",
    "headings = soup.find_all('h2')\n",
    "for heading in headings:\n",
    "    print(heading.text)"
   ]
  },
  {
   "cell_type": "code",
   "execution_count": 24,
   "metadata": {},
   "outputs": [
    {
     "name": "stdout",
     "output_type": "stream",
     "text": [
      "<a href=\"http://www.stern.nyu.edu/\" target=\"_blank\">NYU Stern</a>\n",
      "<a href=\"http://www.cambridgedigitalinnovation.com/\" target=\"_blank\">Center for\n",
      "      Digital Innovation</a>\n",
      "<a href=\"http://www.amazon.com/Rebooting-Democracy-Citizens-Reinventing-Politics/dp/191019817X\">Rebooting\n",
      "      Democracy: A Citizen's Guide to Reinventing Politics</a>\n",
      "<a href=\"http://www.forumdoscidadaos.pt/en\">Fórum dos Cidadãos</a>\n",
      "<a href=\"http://www.policyjurygroup.org/\" target=\"_blank\">Policy\n",
      "      Jury Group</a>\n",
      "<a href=\"software\">this page</a>\n",
      "<a href=\"http://pages.stern.nyu.edu/~marriaga/beyond-the-hfs.pdf\">alternative\n",
      "      way to organize personal documents</a>\n",
      "<a href=\"http://tonictapes.org/\">this small tribute to the historic\n",
      "      music club Tonic</a>\n",
      "<a href=\"http://underlinedpress.com/\">print a beautiful custom-made\n",
      "      book containing your favorite poems, prose fragments and other\n",
      "      texts</a>\n"
     ]
    }
   ],
   "source": [
    "# example: let us get the URLs for all links on the page\n",
    "\n",
    "# first let us get all links, which in HTML are <a>/<a> elements\n",
    "\n",
    "links = soup.find_all('a')\n",
    "for l in links: print(l)"
   ]
  },
  {
   "cell_type": "code",
   "execution_count": 25,
   "metadata": {},
   "outputs": [
    {
     "name": "stdout",
     "output_type": "stream",
     "text": [
      "<a href=\"http://www.stern.nyu.edu/\" target=\"_blank\">NYU Stern</a>\n"
     ]
    }
   ],
   "source": [
    "# let us take a look just at the 1st\n",
    "print(links[0])"
   ]
  },
  {
   "cell_type": "code",
   "execution_count": 26,
   "metadata": {},
   "outputs": [
    {
     "name": "stdout",
     "output_type": "stream",
     "text": [
      "NYU Stern\n"
     ]
    }
   ],
   "source": [
    "# this is the clickable \"anchor text\" that gets dispayed and can be clicked on\n",
    "print(links[0].text)"
   ]
  },
  {
   "cell_type": "code",
   "execution_count": 28,
   "metadata": {},
   "outputs": [
    {
     "name": "stdout",
     "output_type": "stream",
     "text": [
      "http://www.stern.nyu.edu/\n"
     ]
    }
   ],
   "source": [
    "# what about the actual URL? We can get it by asking for the value of the 'href' (meaning\n",
    "# 'hypertext reference') attribute of the <a> element\n",
    "print( links[0].get(\"href\") )"
   ]
  },
  {
   "cell_type": "code",
   "execution_count": 30,
   "metadata": {},
   "outputs": [
    {
     "name": "stdout",
     "output_type": "stream",
     "text": [
      "http://www.stern.nyu.edu/\n",
      "http://www.cambridgedigitalinnovation.com/\n",
      "http://www.amazon.com/Rebooting-Democracy-Citizens-Reinventing-Politics/dp/191019817X\n",
      "http://www.forumdoscidadaos.pt/en\n",
      "http://www.policyjurygroup.org/\n",
      "http://pages.stern.nyu.edu/~marriaga/software\n",
      "http://pages.stern.nyu.edu/~marriaga/beyond-the-hfs.pdf\n",
      "http://tonictapes.org/\n",
      "http://underlinedpress.com/\n"
     ]
    }
   ],
   "source": [
    "# exercise: print the URLs for all links on my page\n",
    "\n",
    "links = soup.find_all('a')\n",
    "for l in links:\n",
    "    url = l.get(\"href\") \n",
    "    \n",
    "    # some times URLs are \"relative\" to the page or site we are crawling. in such cases,\n",
    "    # we need to prefix them with what is missing for them to be valid URLs\n",
    "    \n",
    "    if not url.startswith('http://'): # it is not a fully qualified URL!\n",
    "        if url.startswith('/'): # relative url pointing to another page on this server\n",
    "            url = \"http://pages.stern.nyu.edu\" + url\n",
    "        else: # relative url pointing to a subfolder beneath the current page\n",
    "            url = \"http://pages.stern.nyu.edu/~marriaga/\" + url \n",
    "    print(url) # success, these are now all valid URLs"
   ]
  },
  {
   "cell_type": "code",
   "execution_count": 32,
   "metadata": {},
   "outputs": [
    {
     "name": "stdout",
     "output_type": "stream",
     "text": [
      "Success retrieving the page!\n"
     ]
    }
   ],
   "source": [
    "# Now let us try a more complicated page: let us crawl Stern news\n",
    "\n",
    "# first, retrieve page and create soup object\n",
    "\n",
    "response = requests.get(\"https://www.stern.nyu.edu/experience-stern/news-events\")\n",
    "\n",
    "if response.status_code != 200:\n",
    "    print(\"Trouble! The server returned error code %d\" % response.status_code)\n",
    "else: # OK!\n",
    "    print(\"Success retrieving the page!\")"
   ]
  },
  {
   "cell_type": "code",
   "execution_count": 33,
   "metadata": {
    "collapsed": true
   },
   "outputs": [],
   "source": [
    "html = response.text\n",
    "\n",
    "# as above\n",
    "soup = bs4.BeautifulSoup(html, \"html.parser\")"
   ]
  },
  {
   "cell_type": "code",
   "execution_count": 36,
   "metadata": {},
   "outputs": [
    {
     "name": "stdout",
     "output_type": "stream",
     "text": [
      "[<li class=\"item\">\n",
      "<div class=\"header\">\n",
      "<div class=\"kicker\">School News</div>\n",
      "<h2 class=\"title\"><a class=\"news-events\" href=\"/experience-stern/news-events/isser-gallogly-associate-dean-mba-admissions-and-program-innovation-highlights-stern-s-ms-accounting\">Isser Gallogly, associate dean, MBA Admissions and Program Innovation, highlights Stern's MS in Accounting program in a feature story on specialized master's programs at New York City-based b-schools</a></h2>\n",
      "<div class=\"date\">— <span class=\"date-display-single\">July 22, 2019</span> </div>\n",
      "</div>\n",
      "<div class=\"pic\"><img alt=\"MiM Guide logo \" height=\"144\" src=\"https://www.stern.nyu.edu/sites/default/files/assets/images/mimguide192x144.jpg\" title=\"MiM Guide logo \" width=\"192\"/></div>\n",
      "<h2 class=\"title-bottom\"><a class=\"news-events\" href=\"/experience-stern/news-events/isser-gallogly-associate-dean-mba-admissions-and-program-innovation-highlights-stern-s-ms-accounting\">Isser Gallogly, associate dean, MBA Admissions and Program Innovation, highlights Stern's MS in Accounting program in a feature story on specialized master's programs at New York City-based b-schools</a></h2>\n",
      "<div class=\"body\">\n",
      "<div class=\"abstract\">Excerpt from <a href=\"https://mim-guide.com/articles/masters-in-management-programs-in-new-york-a-vast-range-of-opportunities\" target=\"_blank\">MiM Guide</a> -- \"'New York City offers unique advantages. After graduating from our program, many students begin their careers working in one of \"The Big Four\" large public accounting firms — Deloitte, PricewaterhouseCoopers, Ernst &amp; Young, and KPMG,' says Isser Gallogly, associate dean at NYU Stern, referring to the school’s one-year MS in Accounting course.\"</div>\n",
      "<div class=\"more\"><button class=\"fancy-read-more\" data-href=\"/experience-stern/news-events/isser-gallogly-associate-dean-mba-admissions-and-program-innovation-highlights-stern-s-ms-accounting\">Read More</button></div>\n",
      "</div> </li>, <li class=\"item\">\n",
      "<div class=\"header\">\n",
      "<div class=\"kicker\">Press Releases</div>\n",
      "<h2 class=\"title\"><a class=\"news-events\" href=\"/experience-stern/news-events/address-public-pension-and-infrastructure-funding-gaps-connect-two-nyu-stern-infrastructure-finance\">To Address Public Pension and Infrastructure Funding Gaps, Connect the Two: NYU Stern Infrastructure Finance Initiative</a></h2>\n",
      "<div class=\"date\">— <span class=\"date-display-single\">July 22, 2019</span> </div>\n",
      "</div>\n",
      "<div class=\"pic\"><img alt=\"Ingo Walter \" height=\"144\" src=\"https://www.stern.nyu.edu/sites/default/files/assets/images/iwalter-feature.jpg\" width=\"192\"/></div>\n",
      "<h2 class=\"title-bottom\"><a class=\"news-events\" href=\"/experience-stern/news-events/address-public-pension-and-infrastructure-funding-gaps-connect-two-nyu-stern-infrastructure-finance\">To Address Public Pension and Infrastructure Funding Gaps, Connect the Two: NYU Stern Infrastructure Finance Initiative</a></h2>\n",
      "<div class=\"body\">\n",
      "<div class=\"abstract\">A new book by NYU Stern Professor Ingo Walter and co-author Clive Lipshitz illustrates the challenges facing America’s public pension system and its public infrastructure and suggests solutions to both, particularly by connecting the two.</div>\n",
      "<div class=\"more\"><button class=\"fancy-read-more\" data-href=\"/experience-stern/news-events/address-public-pension-and-infrastructure-funding-gaps-connect-two-nyu-stern-infrastructure-finance\">Read More</button></div>\n",
      "</div> </li>, <li class=\"item\">\n",
      "<div class=\"header\">\n",
      "<div class=\"kicker\">Faculty News</div>\n",
      "<h2 class=\"title\"><a class=\"news-events\" href=\"/experience-stern/news-events/professor-adam-alter-s-book-irresistible-cited-article-instagram-s-design-updates\">Professor Adam Alter's book, \"Irresistible,\" is cited in an article on Instagram's design updates</a></h2>\n",
      "<div class=\"date\">— <span class=\"date-display-single\">July 19, 2019</span> </div>\n",
      "</div>\n",
      "<div class=\"pic\"><img alt=\"Marie Claire logo\" height=\"144\" src=\"https://www.stern.nyu.edu/sites/default/files/assets/images/marie-claire-logo-feature.jpg\" width=\"192\"/></div>\n",
      "<h2 class=\"title-bottom\"><a class=\"news-events\" href=\"/experience-stern/news-events/professor-adam-alter-s-book-irresistible-cited-article-instagram-s-design-updates\">Professor Adam Alter's book, \"Irresistible,\" is cited in an article on Instagram's design updates</a></h2>\n",
      "<div class=\"body\">\n",
      "<div class=\"abstract\">Excerpt from <a href=\"https://www.marieclaire.co.uk/entertainment/technology/instagram-hiding-likes-663841\" target=\"_blank\">Marie Claire UK</a> -- \"New York University professor Adam Alter, author of Irresistible: The Rise of Addictive Technology and the Business of Keeping Us Hooked explains that when we get ‘likes’ on social media our brain releases dopamine, known as the pleasure chemical.\"</div>\n",
      "<div class=\"more\"><button class=\"fancy-read-more\" data-href=\"/experience-stern/news-events/professor-adam-alter-s-book-irresistible-cited-article-instagram-s-design-updates\">Read More</button></div>\n",
      "</div> </li>, <li class=\"item\">\n",
      "<div class=\"header\">\n",
      "<div class=\"kicker\">Faculty News</div>\n",
      "<h2 class=\"title\"><a class=\"news-events\" href=\"/experience-stern/news-events/professor-deepak-hegde-interviewed-story-prevalence-female-founded-unicorn-startups-2019\">Professor Deepak Hegde is interviewed for a story on the prevalence of female-founded unicorn startups in 2019</a></h2>\n",
      "<div class=\"date\">— <span class=\"date-display-single\">July 19, 2019</span> </div>\n",
      "</div>\n",
      "<div class=\"pic\"><img alt=\"CGTN logo \" height=\"144\" src=\"https://www.stern.nyu.edu/sites/default/files/assets/images/cgtn192x144.jpg\" title=\"CGTN logo\" width=\"192\"/></div>\n",
      "<h2 class=\"title-bottom\"><a class=\"news-events\" href=\"/experience-stern/news-events/professor-deepak-hegde-interviewed-story-prevalence-female-founded-unicorn-startups-2019\">Professor Deepak Hegde is interviewed for a story on the prevalence of female-founded unicorn startups in 2019</a></h2>\n",
      "<div class=\"body\">\n",
      "<div class=\"abstract\">Excerpt from <a href=\"https://america.cgtn.com/2019/07/18/female-founded-unicorns-to-hit-record-in-2019\" target=\"_blank\">CGTN</a> -- \"'There are stereotypes that women don’t tend to take risks as much and a large part of entrepreneurship is kind of risk taking. Now just because you’re a risk taker doesn’t mean you’re a better founder, but that can unfortunately end up propagating these biases as well,' said Hegde.\"</div>\n",
      "<div class=\"more\"><button class=\"fancy-read-more\" data-href=\"/experience-stern/news-events/professor-deepak-hegde-interviewed-story-prevalence-female-founded-unicorn-startups-2019\">Watch the video</button></div>\n",
      "</div> </li>, <li class=\"item\">\n",
      "<div class=\"header\">\n",
      "<div class=\"kicker\">Faculty News</div>\n",
      "<h2 class=\"title\"><a class=\"news-events\" href=\"/experience-stern/news-events/interview-professor-amy-webb-discusses-us-and-china-s-geopolitical-rivalry-over-ai\">In an interview, Professor Amy Webb discusses the US and China's geopolitical rivalry over AI</a></h2>\n",
      "<div class=\"date\">— <span class=\"date-display-single\">July 18, 2019</span> </div>\n",
      "</div>\n",
      "<div class=\"pic\"><img height=\"144\" src=\"https://www.stern.nyu.edu/sites/default/files/assets/images/con_031428.jpg\" width=\"192\"/></div>\n",
      "<h2 class=\"title-bottom\"><a class=\"news-events\" href=\"/experience-stern/news-events/interview-professor-amy-webb-discusses-us-and-china-s-geopolitical-rivalry-over-ai\">In an interview, Professor Amy Webb discusses the US and China's geopolitical rivalry over AI</a></h2>\n",
      "<div class=\"body\">\n",
      "<div class=\"abstract\">Excerpt from <a href=\"https://www.politico.com/story/2019/07/18/global-translations-ai-china-1598442\" target=\"_blank\">Politico</a> -- \"'We are being outspent. We are being out-researched. We are being outpaced. We are being out-staffed,' said Amy Webb, a professor at the NYU Stern School of Business who specializes in future forecasting. 'We have failed and are continuing to fail to see China as a militaristic, economic, and diplomatic pacing threat when it comes to AI.''</div>\n",
      "<div class=\"more\"><button class=\"fancy-read-more\" data-href=\"/experience-stern/news-events/interview-professor-amy-webb-discusses-us-and-china-s-geopolitical-rivalry-over-ai\">Read More</button></div>\n",
      "</div> </li>, <li class=\"item\">\n",
      "<div class=\"header\">\n",
      "<div class=\"kicker\">Faculty News</div>\n",
      "<h2 class=\"title\"><a class=\"news-events\" href=\"/experience-stern/news-events/professor-thoma-serdari-shares-her-perspective-how-nordstrom-anniversary-sale-causing-confusion\">Professor Thomaï Serdari shares her perspective on how the Nordstrom Anniversary Sale is causing confusion among customers</a></h2>\n",
      "<div class=\"date\">— <span class=\"date-display-single\">July 18, 2019</span> </div>\n",
      "</div>\n",
      "<div class=\"pic\"><img alt=\"retail dive logo\" height=\"144\" src=\"https://www.stern.nyu.edu/sites/default/files/assets/images/Retail-Dive-logo-feature_0.jpg\" width=\"192\"/></div>\n",
      "<h2 class=\"title-bottom\"><a class=\"news-events\" href=\"/experience-stern/news-events/professor-thoma-serdari-shares-her-perspective-how-nordstrom-anniversary-sale-causing-confusion\">Professor Thomaï Serdari shares her perspective on how the Nordstrom Anniversary Sale is causing confusion among customers</a></h2>\n",
      "<div class=\"body\">\n",
      "<div class=\"abstract\">Excerpt from <a href=\"https://www.retaildive.com/news/nordstrom-faces-backlash-over-anniversary-sale-early-access/558993/\" target=\"_blank\">Retail Dive</a> -- \"'There is something off-balance on how the various tiers of loyalty membership have been structured,' Serdari​ told Retail Dive in an email. A Member is 'probably an occasional shopper who enjoys the brand association,' and then 'there is a considerable \"spend\" difference between Insiders and Influencers (from $500/year to $2000/year) that truly differentiates regular beauty shoppers from apparel devotees,' she noted.\"</div>\n",
      "<div class=\"more\"><button class=\"fancy-read-more\" data-href=\"/experience-stern/news-events/professor-thoma-serdari-shares-her-perspective-how-nordstrom-anniversary-sale-causing-confusion\">Read More</button></div>\n",
      "</div> </li>, <li class=\"item\">\n",
      "<div class=\"header\">\n",
      "<div class=\"kicker\">School News</div>\n",
      "<h2 class=\"title\"><a class=\"news-events\" href=\"/experience-stern/news-events/paul-barrett-deputy-director-center-business-and-human-rights-provides-his-recommendations-how\">Paul Barrett, deputy director of the Center for Business and Human Rights, provides his recommendations for how YouTube can combat disinformation from spreading on the platform</a></h2>\n",
      "<div class=\"date\">— <span class=\"date-display-single\">July 18, 2019</span> </div>\n",
      "</div>\n",
      "<div class=\"pic\"><img alt=\"BEME News logo\" height=\"144\" src=\"https://www.stern.nyu.edu/sites/default/files/assets/images/beme192x144.jpg\" title=\"BEME News logo\" width=\"192\"/></div>\n",
      "<h2 class=\"title-bottom\"><a class=\"news-events\" href=\"/experience-stern/news-events/paul-barrett-deputy-director-center-business-and-human-rights-provides-his-recommendations-how\">Paul Barrett, deputy director of the Center for Business and Human Rights, provides his recommendations for how YouTube can combat disinformation from spreading on the platform</a></h2>\n",
      "<div class=\"body\">\n",
      "<div class=\"abstract\">Excerpt from <a href=\"https://youtu.be/Wb9UdWLgmUc?t=459\" target=\"_blank\">BEME News</a> -- \"Paul Barrett, deputy director of NYU Stern's Center for Business and Human Rights, told me that YouTube's preference for increasingly extreme content is a feature of the system, not a bug. He told me YouTube is in the advertising business, so they have a financial incentive to keep users engaged.\"</div>\n",
      "<div class=\"more\"><button class=\"fancy-read-more\" data-href=\"/experience-stern/news-events/paul-barrett-deputy-director-center-business-and-human-rights-provides-his-recommendations-how\">Watch the video</button></div>\n",
      "</div> </li>, <li class=\"item\">\n",
      "<div class=\"header\">\n",
      "<div class=\"kicker\">Faculty News</div>\n",
      "<h2 class=\"title\"><a class=\"news-events\" href=\"/experience-stern/news-events/professor-jason-greenberg-s-joint-research-entrepreneurial-ventures-cited\">Professor Jason Greenberg's joint research on entrepreneurial ventures is cited</a></h2>\n",
      "<div class=\"date\">— <span class=\"date-display-single\">July 17, 2019</span> </div>\n",
      "</div>\n",
      "<div class=\"pic\"><img alt=\"Livemint logo\" height=\"144\" src=\"https://www.stern.nyu.edu/sites/default/files/assets/images/livemint%20feature.jpg\" width=\"192\"/></div>\n",
      "<h2 class=\"title-bottom\"><a class=\"news-events\" href=\"/experience-stern/news-events/professor-jason-greenberg-s-joint-research-entrepreneurial-ventures-cited\">Professor Jason Greenberg's joint research on entrepreneurial ventures is cited</a></h2>\n",
      "<div class=\"body\">\n",
      "<div class=\"abstract\">Excerpt from <a href=\"https://www.livemint.com/opinion/columns/opinion-the-indigo-war-reveals-the-problems-of-co-promoters-1563384159874.html\" target=\"_blank\">Livemint</a> -- \"In a paper titled Sole Survivors: Solo Ventures Versus Founding Teams Jason Greenberg of the Leonard N. Stern School of Business at New York University and Ethan R. Mollick of University of Pennsylvania’s Wharton School posit that companies started by solo founders survive longer than those started by teams.\"</div>\n",
      "<div class=\"more\"><button class=\"fancy-read-more\" data-href=\"/experience-stern/news-events/professor-jason-greenberg-s-joint-research-entrepreneurial-ventures-cited\">Read More</button></div>\n",
      "</div> </li>, <li class=\"item\">\n",
      "<div class=\"header\">\n",
      "<div class=\"kicker\">Faculty News</div>\n",
      "<h2 class=\"title\"><a class=\"news-events\" href=\"/experience-stern/news-events/professor-nicholas-economides-shares-his-outlook-european-union-s-case-against-amazon\">Professor Nicholas Economides shares his outlook on the European Union's case against Amazon</a></h2>\n",
      "<div class=\"date\">— <span class=\"date-display-single\">July 17, 2019</span> </div>\n",
      "</div>\n",
      "<div class=\"pic\"><img alt=\"wall street journal logo\" height=\"144\" src=\"https://www.stern.nyu.edu/sites/default/files/assets/images/wsjlogo.jpg\" width=\"192\"/></div>\n",
      "<h2 class=\"title-bottom\"><a class=\"news-events\" href=\"/experience-stern/news-events/professor-nicholas-economides-shares-his-outlook-european-union-s-case-against-amazon\">Professor Nicholas Economides shares his outlook on the European Union's case against Amazon</a></h2>\n",
      "<div class=\"body\">\n",
      "<div class=\"abstract\">Excerpt from <a href=\"https://www.wsj.com/articles/amazon-to-overhaul-marketplace-terms-as-part-of-german-settlement-11563353036?mod=djemalertNEWS\" target=\"_blank\">The Wall Street Journal</a> -- \"'It’s an innovative case,' said Nicholas Economides, an economics professor who looks at competition issues at New York University Stern School of Business. He thinks the EU has a real challenge if it attempts to show that Amazon’s use of the data is anticompetitive. 'Information alone is not going to make the case,” Mr. Economides said.\"</div>\n",
      "<div class=\"more\"><button class=\"fancy-read-more\" data-href=\"/experience-stern/news-events/professor-nicholas-economides-shares-his-outlook-european-union-s-case-against-amazon\">Read More</button></div>\n",
      "</div> </li>, <li class=\"item\">\n",
      "<div class=\"header\">\n",
      "<div class=\"kicker\">Faculty News</div>\n",
      "<h2 class=\"title\"><a class=\"news-events\" href=\"/experience-stern/news-events/professor-ingo-walter-s-joint-research-bridging-public-pension-funds-and-infrastructure-investing\">Professor Ingo Walter's joint research on bridging public pension funds and infrastructure investing is featured </a></h2>\n",
      "<div class=\"date\">— <span class=\"date-display-single\">July 17, 2019</span> </div>\n",
      "</div>\n",
      "<div class=\"pic\"><img alt=\"Reason Foundation logo\" height=\"144\" src=\"https://www.stern.nyu.edu/sites/default/files/assets/images/Reason-Foundation-logo-feature.jpg\" width=\"192\"/></div>\n",
      "<h2 class=\"title-bottom\"><a class=\"news-events\" href=\"/experience-stern/news-events/professor-ingo-walter-s-joint-research-bridging-public-pension-funds-and-infrastructure-investing\">Professor Ingo Walter's joint research on bridging public pension funds and infrastructure investing is featured </a></h2>\n",
      "<div class=\"body\">\n",
      "<div class=\"abstract\">Excerpt from <a href=\"https://reason.org/commentary/new-research-shows-opportunities-and-perils-of-pension-funds-investing-in-infrastructure/\" target=\"_blank\">Reason Foundation</a> -- \"The authors analyzed asset allocation and return data for the nation’s 25 largest pension funds over a 10-year period. They found no correlation between allocations to infrastructure (and other alternative investments) and net investment returns. They hypothesize that higher expenses for these exotic investments offset their higher gross returns, but cannot verify this contention due to inadequate and inconsistent expense data reported by the funds.\"</div>\n",
      "<div class=\"more\"><button class=\"fancy-read-more\" data-href=\"/experience-stern/news-events/professor-ingo-walter-s-joint-research-bridging-public-pension-funds-and-infrastructure-investing\">Read More</button></div>\n",
      "</div> </li>, <li class=\"item\">\n",
      "<div class=\"header\">\n",
      "<div class=\"kicker\">Faculty News</div>\n",
      "<h2 class=\"title\"><a class=\"news-events\" href=\"/experience-stern/news-events/radio-interview-professor-thoma-serdari-discusses-how-fashion-industry-has-become-more-size\">In a radio interview, Professor Thomaï Serdari discusses how the fashion industry has become more size-inclusive</a></h2>\n",
      "<div class=\"date\">— <span class=\"date-display-single\">July 17, 2019</span> </div>\n",
      "</div>\n",
      "<div class=\"pic\"><img alt=\"knowledge at wharton logo \" height=\"144\" src=\"https://www.stern.nyu.edu/sites/default/files/assets/images/knowledgeatwharton192x144.jpg\" title=\"knowledge at wharton logo \" width=\"192\"/></div>\n",
      "<h2 class=\"title-bottom\"><a class=\"news-events\" href=\"/experience-stern/news-events/radio-interview-professor-thoma-serdari-discusses-how-fashion-industry-has-become-more-size\">In a radio interview, Professor Thomaï Serdari discusses how the fashion industry has become more size-inclusive</a></h2>\n",
      "<div class=\"body\">\n",
      "<div class=\"abstract\">Excerpt from <a href=\"https://knowledge.wharton.upenn.edu/article/major-brands-plus-size-clothing/\" target=\"_blank\">Knowledge@Wharton on SiriusXM</a> -- \"'There are many things that have been going wrong in the fashion industry, starting with the fact that this is a male-dominated industry in terms of leadership and in terms of designers,' Serdari said. 'So what has been produced over the years for women has been dictated by men and follows some sort of ideal of an ideal woman that is not reflecting the reality and the actual size of women today.'\"</div>\n",
      "<div class=\"more\"><button class=\"fancy-read-more\" data-href=\"/experience-stern/news-events/radio-interview-professor-thoma-serdari-discusses-how-fashion-industry-has-become-more-size\">Listen here</button></div>\n",
      "</div> </li>, <li class=\"item\">\n",
      "<div class=\"header\">\n",
      "<div class=\"kicker\">Faculty News</div>\n",
      "<h2 class=\"title\"><a class=\"news-events\" href=\"/experience-stern/news-events/professor-priya-raghubir-s-joint-research-payment-options-and-spending-behavior-cited\">Professor Priya Raghubir's joint research on payment options and spending behavior is cited </a></h2>\n",
      "<div class=\"date\">— <span class=\"date-display-single\">July 16, 2019</span> </div>\n",
      "</div>\n",
      "<div class=\"pic\"><img alt=\"MarketWatch logo\" height=\"144\" src=\"https://www.stern.nyu.edu/sites/default/files/assets/images/marketwatch%20logo.jpg\" width=\"192\"/></div>\n",
      "<h2 class=\"title-bottom\"><a class=\"news-events\" href=\"/experience-stern/news-events/professor-priya-raghubir-s-joint-research-payment-options-and-spending-behavior-cited\">Professor Priya Raghubir's joint research on payment options and spending behavior is cited </a></h2>\n",
      "<div class=\"body\">\n",
      "<div class=\"abstract\">Excerpt from <a href=\"https://www.marketwatch.com/story/facebooks-libra-coin-could-become-a-big-pain-in-the-wallet-for-consumers-2019-06-19\" target=\"_blank\">MarketWatch</a> -- \"A 2008 study from New York University professor Priya Raghubir and University of Maryland, College Park professor Joydeep Srivastava tested whether people approached other forms of payment similar to how they used credit cards. Their study found that consumers spent more when they were given scrip, a form of a stored-value certificate, rather than cash.\"</div>\n",
      "<div class=\"more\"><button class=\"fancy-read-more\" data-href=\"/experience-stern/news-events/professor-priya-raghubir-s-joint-research-payment-options-and-spending-behavior-cited\">Read more</button></div>\n",
      "</div> </li>, <li class=\"item\">\n",
      "<div class=\"header\">\n",
      "<div class=\"kicker\">Faculty News</div>\n",
      "<h2 class=\"title\"><a class=\"news-events\" href=\"/experience-stern/news-events/professor-richard-sylla-interviewed-article-historically-low-interest-rates\">Professor Richard Sylla is interviewed for an article on historically low interest rates</a></h2>\n",
      "<div class=\"date\">— <span class=\"date-display-single\">July 16, 2019</span> </div>\n",
      "</div>\n",
      "<div class=\"pic\"><img alt=\"MarketWatch logo\" height=\"144\" src=\"https://www.stern.nyu.edu/sites/default/files/assets/images/marketwatch%20logo.jpg\" width=\"192\"/></div>\n",
      "<h2 class=\"title-bottom\"><a class=\"news-events\" href=\"/experience-stern/news-events/professor-richard-sylla-interviewed-article-historically-low-interest-rates\">Professor Richard Sylla is interviewed for an article on historically low interest rates</a></h2>\n",
      "<div class=\"body\">\n",
      "<div class=\"abstract\">Excerpt from <a href=\"https://www.marketwatch.com/story/we-havent-seen-interest-rates-this-low-since-before-hammurabi-so-what-bonds-should-you-buy-2019-07-18\" target=\"_blank\">MarketWatch</a> -- \"'If a significant fraction of [the world’s bond market] has negative interest rates, that’s pretty unusual,' said Sylla. Even in recent history, he added, such occurrences are rare. In 1940-1941, he said, rates on short-term U.S. bonds went negative as the economy still grappled with the fallout from the Great Depression.\"</div>\n",
      "<div class=\"more\"><button class=\"fancy-read-more\" data-href=\"/experience-stern/news-events/professor-richard-sylla-interviewed-article-historically-low-interest-rates\">Read more</button></div>\n",
      "</div> </li>, <li class=\"item\">\n",
      "<div class=\"header\">\n",
      "<div class=\"kicker\">Faculty News</div>\n",
      "<h2 class=\"title\"><a class=\"news-events\" href=\"/experience-stern/news-events/professor-sabrina-howell-quoted-feature-article-her-joint-research-with-professor-david-yermack\">Professor Sabrina Howell is quoted in a feature article on her joint research with Professor David Yermack on initial coin offerings</a></h2>\n",
      "<div class=\"date\">— <span class=\"date-display-single\">July 16, 2019</span> </div>\n",
      "</div>\n",
      "<div class=\"pic\"><img alt=\"Econ Focus logo\" height=\"144\" src=\"https://www.stern.nyu.edu/sites/default/files/assets/images/Econ-Focus-logo-feature.jpg\" width=\"192\"/></div>\n",
      "<h2 class=\"title-bottom\"><a class=\"news-events\" href=\"/experience-stern/news-events/professor-sabrina-howell-quoted-feature-article-her-joint-research-with-professor-david-yermack\">Professor Sabrina Howell is quoted in a feature article on her joint research with Professor David Yermack on initial coin offerings</a></h2>\n",
      "<div class=\"body\">\n",
      "<div class=\"abstract\">Excerpt from the <a href=\"https://www.richmondfed.org/publications/research/econ_focus/2019/q1/feature2\" target=\"_blank\">Econ Focus</a> -- \"'There is definitely some regulatory arbitrage and quite a bit of fraud that has happened,' says Howell. 'But I think ICOs also open the possibility for some exciting new business models.'\"</div>\n",
      "<div class=\"more\"><button class=\"fancy-read-more\" data-href=\"/experience-stern/news-events/professor-sabrina-howell-quoted-feature-article-her-joint-research-with-professor-david-yermack\">Read More</button></div>\n",
      "</div> </li>, <li class=\"item\">\n",
      "<div class=\"header\">\n",
      "<div class=\"kicker\">Press Releases</div>\n",
      "<h2 class=\"title\"><a class=\"news-events\" href=\"/experience-stern/news-events/endless-frontier-labs-new-york-university-s-stern-school-business-paves-way-science-based-startups\">Endless Frontier Labs at New York University’s Stern School of Business Paves the Way for Science-based Startups</a></h2>\n",
      "<div class=\"date\">— <span class=\"date-display-single\">July 15, 2019</span> </div>\n",
      "</div>\n",
      "<div class=\"pic\"><img alt=\"Endless Frontier Labs logo\" height=\"144\" src=\"https://www.stern.nyu.edu/sites/default/files/assets/images/Endless%20Frontier%20Labs%20Feature.jpg\" width=\"192\"/></div>\n",
      "<h2 class=\"title-bottom\"><a class=\"news-events\" href=\"/experience-stern/news-events/endless-frontier-labs-new-york-university-s-stern-school-business-paves-way-science-based-startups\">Endless Frontier Labs at New York University’s Stern School of Business Paves the Way for Science-based Startups</a></h2>\n",
      "<div class=\"body\">\n",
      "<div class=\"abstract\">New York University Stern School of Business is accepting applications for the 2019-2020 cohort of Endless Frontier Labs (EFL), a program for early-stage science- and technology-based startups. The program is structured to optimize each startup’s chance of scaling into a successful company through a goals-based mentoring process.</div>\n",
      "<div class=\"more\"><button class=\"fancy-read-more\" data-href=\"/experience-stern/news-events/endless-frontier-labs-new-york-university-s-stern-school-business-paves-way-science-based-startups\">Read More</button></div>\n",
      "</div> </li>, <li class=\"item\">\n",
      "<div class=\"header\">\n",
      "<div class=\"kicker\">Faculty News</div>\n",
      "<h2 class=\"title\"><a class=\"news-events\" href=\"/experience-stern/news-events/professor-tom-meyvis-explains-how-amazon-prime-day-creates-sense-urgency-customers\">Professor Tom Meyvis explains how Amazon Prime Day creates a sense of urgency for customers</a></h2>\n",
      "<div class=\"date\">— <span class=\"date-display-single\">July 12, 2019</span> </div>\n",
      "</div>\n",
      "<div class=\"pic\"><img height=\"144\" src=\"https://www.stern.nyu.edu/sites/default/files/assets/images/con_034412.gif\" width=\"192\"/></div>\n",
      "<h2 class=\"title-bottom\"><a class=\"news-events\" href=\"/experience-stern/news-events/professor-tom-meyvis-explains-how-amazon-prime-day-creates-sense-urgency-customers\">Professor Tom Meyvis explains how Amazon Prime Day creates a sense of urgency for customers</a></h2>\n",
      "<div class=\"body\">\n",
      "<div class=\"abstract\">Excerpt from <a href=\"https://www.cnbc.com/2019/07/12/fear-missing-out-amazon-knows-it-and-uses-it-to-make-prime-day-sales.html\" target=\"_blank\">CNBC</a> -- \"'It’s special because it only happens once a year,' Meyvis said. 'There are so many brands and retailers that have promotions all the time — often times you don’t have a sense of urgency.'\"</div>\n",
      "<div class=\"more\"><button class=\"fancy-read-more\" data-href=\"/experience-stern/news-events/professor-tom-meyvis-explains-how-amazon-prime-day-creates-sense-urgency-customers\">Read More</button></div>\n",
      "</div> </li>, <li class=\"item\">\n",
      "<div class=\"header\">\n",
      "<div class=\"kicker\">Faculty News</div>\n",
      "<h2 class=\"title\"><a class=\"news-events\" href=\"/experience-stern/news-events/professor-allen-adamson-highlights-benefits-small-subscriptions-delivering-customer-loyalty\">Professor Allen Adamson highlights the benefits of small subscriptions in delivering customer loyalty</a></h2>\n",
      "<div class=\"date\">— <span class=\"date-display-single\">July 11, 2019</span> </div>\n",
      "</div>\n",
      "<div class=\"pic\"><img alt=\"\" height=\"144\" src=\"https://www.stern.nyu.edu/sites/default/files/assets/images/icas192x144.jpg\" width=\"192\"/></div>\n",
      "<h2 class=\"title-bottom\"><a class=\"news-events\" href=\"/experience-stern/news-events/professor-allen-adamson-highlights-benefits-small-subscriptions-delivering-customer-loyalty\">Professor Allen Adamson highlights the benefits of small subscriptions in delivering customer loyalty</a></h2>\n",
      "<div class=\"body\">\n",
      "<div class=\"abstract\">Excerpt from <a href=\"https://www.icas.com/ca-today-news/small-subscriptions-business-saviour-or-profit-killer\" target=\"_blank\">ICAS</a> -- \"'The key driver is that you want to be able to lock in your most loyal customers and to get them to use you as often as possible and to get them out of the market,' said Allen Adamson, Adjunct Associate Professor at New York University’s Stern School of Business. 'Even if you’re losing money – it’s a loss leader. They will buy something else once in a while, but they won’t change their habits.'\"</div>\n",
      "<div class=\"more\"><button class=\"fancy-read-more\" data-href=\"/experience-stern/news-events/professor-allen-adamson-highlights-benefits-small-subscriptions-delivering-customer-loyalty\">Read More</button></div>\n",
      "</div> </li>, <li class=\"item\">\n",
      "<div class=\"header\">\n",
      "<div class=\"kicker\">Press Releases</div>\n",
      "<h2 class=\"title\"><a class=\"news-events\" href=\"/experience-stern/news-events/nyu-stern-executive-education-host-srw-co-s-2020-asean-global-leadership-program-nyc\">NYU Stern Executive Education to Host SRW&amp;Co.’s 2020 ASEAN Global Leadership Program in NYC</a></h2>\n",
      "<div class=\"date\">— <span class=\"date-display-single\">July 1, 2019</span> </div>\n",
      "</div>\n",
      "<div class=\"pic\"><img alt=\"NYU flags outside of the Henry Kaufman Management Center\" height=\"144\" src=\"https://www.stern.nyu.edu/sites/default/files/assets/images/KMC-Flags_feature_1.jpg\" title=\"NYU flags outside of the Henry Kaufman Management Center\" width=\"192\"/></div>\n",
      "<h2 class=\"title-bottom\"><a class=\"news-events\" href=\"/experience-stern/news-events/nyu-stern-executive-education-host-srw-co-s-2020-asean-global-leadership-program-nyc\">NYU Stern Executive Education to Host SRW&amp;Co.’s 2020 ASEAN Global Leadership Program in NYC</a></h2>\n",
      "<div class=\"body\">\n",
      "<div class=\"abstract\">The ASEAN region plays a vital role in spurring economic growth and innovation across several industries both in the region and globally. To develop and inspire today’s global leaders, NYU Stern Executive Education will welcome regional management consulting firm SRW&amp;Co. for their ASEAN Global Leadership Program (AGLP), from April 13 to April 17, 2020. </div>\n",
      "<div class=\"more\"><button class=\"fancy-read-more\" data-href=\"/experience-stern/news-events/nyu-stern-executive-education-host-srw-co-s-2020-asean-global-leadership-program-nyc\">Read More</button></div>\n",
      "</div> </li>, <li class=\"item\">\n",
      "<div class=\"header\">\n",
      "<div class=\"kicker\">Faculty News</div>\n",
      "<h2 class=\"title\"><a class=\"news-events\" href=\"/experience-stern/news-events/professor-susan-stehlik-shares-insights-how-world-leaders-can-effectively-use-communication\">Professor Susan Stehlik shares insights for how world leaders can effectively use communication strategies at the G20 Summit</a></h2>\n",
      "<div class=\"date\">— <span class=\"date-display-single\">June 28, 2019</span> </div>\n",
      "</div>\n",
      "<div class=\"pic\"><img alt=\"Business Insider logo\" height=\"144\" src=\"https://www.stern.nyu.edu/sites/default/files/assets/images/business%20insider%20logo.jpg\" width=\"192\"/></div>\n",
      "<h2 class=\"title-bottom\"><a class=\"news-events\" href=\"/experience-stern/news-events/professor-susan-stehlik-shares-insights-how-world-leaders-can-effectively-use-communication\">Professor Susan Stehlik shares insights for how world leaders can effectively use communication strategies at the G20 Summit</a></h2>\n",
      "<div class=\"body\">\n",
      "<div class=\"abstract\">Excerpt from <a href=\"https://www.businessinsider.com/best-leadership-strategies-for-g20-and-international-negotiation-2019-6\" target=\"_blank\">Business Insider </a>-- \"Trump can get on Xi's good side by asking questions instead of proposing a solution without listening. Susan Stehlik, the director of NYU Stern Business School's management communication program, said Western leaders can fall into the trap of presenting a proposal right at the top of the meeting.\"</div>\n",
      "<div class=\"more\"><button class=\"fancy-read-more\" data-href=\"/experience-stern/news-events/professor-susan-stehlik-shares-insights-how-world-leaders-can-effectively-use-communication\">Read More</button></div>\n",
      "</div> </li>, <li class=\"item\">\n",
      "<div class=\"header\">\n",
      "<div class=\"kicker\">School News</div>\n",
      "<h2 class=\"title\"><a class=\"news-events\" href=\"/experience-stern/news-events/q-interview-professor-and-vice-dean-mba-programs-jp-eggers-highlights-stern-s-new-mba-specialization\">In a Q&amp;A interview, Professor and Vice Dean of MBA programs JP Eggers highlights Stern's new MBA specialization in healthcare</a></h2>\n",
      "<div class=\"date\">— <span class=\"date-display-single\">June 27, 2019</span> </div>\n",
      "</div>\n",
      "<div class=\"pic\"><img alt=\"Metro MBA logo\" height=\"144\" src=\"https://www.stern.nyu.edu/sites/default/files/assets/images/metromba.jpg\" title=\"Metro MBA logo\" width=\"192\"/></div>\n",
      "<h2 class=\"title-bottom\"><a class=\"news-events\" href=\"/experience-stern/news-events/q-interview-professor-and-vice-dean-mba-programs-jp-eggers-highlights-stern-s-new-mba-specialization\">In a Q&amp;A interview, Professor and Vice Dean of MBA programs JP Eggers highlights Stern's new MBA specialization in healthcare</a></h2>\n",
      "<div class=\"body\">\n",
      "<div class=\"abstract\">Excerpt from <a href=\"https://www.metromba.com/2019/06/nyu-stern-mba-vice-dean/\">MetroMBA</a> -- “'Healthcare is an incredibly important part of the U.S. and global economy, and even more central to New York City given the hospital systems, pharmaceutical companies, and insurance providers within the broader region. As a result and in line with Stern’s continued push to diversify the opportunity set for our students, this became a priority to make our ambitious goals in the healthcare space something visible and public.'\"</div>\n",
      "<div class=\"more\"><button class=\"fancy-read-more\" data-href=\"/experience-stern/news-events/q-interview-professor-and-vice-dean-mba-programs-jp-eggers-highlights-stern-s-new-mba-specialization\">Read More</button></div>\n",
      "</div> </li>, <li class=\"item\">\n",
      "<div class=\"header\">\n",
      "<div class=\"kicker\">School News</div>\n",
      "<h2 class=\"title\"><a class=\"news-events\" href=\"/experience-stern/news-events/recent-stern-alumnus-john-pattison-mba-19-and-his-new-employer-new-age-meats-kick-trend-story-uptick\">Recent Stern alumnus John Pattison (MBA '19) and his new employer, New Age Meats, kick off a trend story on the uptick in MBA hiring among startup companies</a></h2>\n",
      "<div class=\"date\">— <span class=\"date-display-single\">June 27, 2019</span> </div>\n",
      "</div>\n",
      "<div class=\"pic\"><img alt=\"Financial Times logo\" height=\"144\" src=\"https://www.stern.nyu.edu/sites/default/files/assets/images/uat_025699.jpg\" title=\"Financial Times logo\" width=\"192\"/></div>\n",
      "<h2 class=\"title-bottom\"><a class=\"news-events\" href=\"/experience-stern/news-events/recent-stern-alumnus-john-pattison-mba-19-and-his-new-employer-new-age-meats-kick-trend-story-uptick\">Recent Stern alumnus John Pattison (MBA '19) and his new employer, New Age Meats, kick off a trend story on the uptick in MBA hiring among startup companies</a></h2>\n",
      "<div class=\"body\">\n",
      "<div class=\"abstract\">Excerpt from the <a href=\"https://www.ft.com/content/5d4b0e30-926e-11e9-b7ea-60e35ef678d2\" target=\"_blank\">Financial Times</a> -- \"New Age Meats is not a conventional MBA recruiter. The San Francisco food start-up, which is developing a technique to grow meat from animal cells, has yet to close its first funding round and has just four people on the payroll. But its first hire was MBA student John Pattison, a former management consultant and US army officer, who joined fresh from his graduation ceremony from NYU’s Stern School of Business in May.\"</div>\n",
      "<div class=\"more\"><button class=\"fancy-read-more\" data-href=\"/experience-stern/news-events/recent-stern-alumnus-john-pattison-mba-19-and-his-new-employer-new-age-meats-kick-trend-story-uptick\">Read More</button></div>\n",
      "</div> </li>, <li class=\"item\">\n",
      "<div class=\"header\">\n",
      "<div class=\"kicker\">Press Releases</div>\n",
      "<h2 class=\"title\"><a class=\"news-events\" href=\"/experience-stern/news-events/nyu-impact-investment-fund-niif-makes-its-first-investment\">NYU Impact Investment Fund (NIIF) Makes Its First Investment</a></h2>\n",
      "<div class=\"date\">— <span class=\"date-display-single\">June 27, 2019</span> </div>\n",
      "</div>\n",
      "<div class=\"pic\"><img alt=\"NIIF logo\" height=\"144\" src=\"https://www.stern.nyu.edu/sites/default/files/assets/images/NIIF-logo%20-%20feature.jpg\" width=\"192\"/></div>\n",
      "<h2 class=\"title-bottom\"><a class=\"news-events\" href=\"/experience-stern/news-events/nyu-impact-investment-fund-niif-makes-its-first-investment\">NYU Impact Investment Fund (NIIF) Makes Its First Investment</a></h2>\n",
      "<div class=\"body\">\n",
      "<div class=\"abstract\">The student-led NYU Impact Investment Fund (NIIF) has successfully completed its first investment with a $30,000 investment in Sapient Industries,  whose mission is to eliminate waste from our electrical grid using machine learning.</div>\n",
      "<div class=\"more\"><button class=\"fancy-read-more\" data-href=\"/experience-stern/news-events/nyu-impact-investment-fund-niif-makes-its-first-investment\">Read More</button></div>\n",
      "</div> </li>, <li class=\"item\">\n",
      "<div class=\"header\">\n",
      "<div class=\"kicker\">Research Center Events</div>\n",
      "<h2 class=\"title\"><a class=\"news-events\" href=\"/experience-stern/news-events/communication-strategies-developing-leadership-presence\">Executive Education Short Course: Communication Strategies: Developing Leadership Presence</a></h2>\n",
      "<div class=\"date\">— <span class=\"date-display-single\">June 27, 2019</span> </div>\n",
      "</div>\n",
      "<div class=\"pic\"><img alt=\"&lt;None&gt;\" height=\"144\" src=\"https://www.stern.nyu.edu/sites/default/files/assets/images/Communication-Strategies--Developing-Leadership-Presence_0.jpg\" width=\"192\"/></div>\n",
      "<h2 class=\"title-bottom\"><a class=\"news-events\" href=\"/experience-stern/news-events/communication-strategies-developing-leadership-presence\">Executive Education Short Course: Communication Strategies: Developing Leadership Presence</a></h2>\n",
      "<div class=\"body\">\n",
      "<div class=\"abstract\">In this advanced communication program, participants will practice developing and delivering well-crafted, concise messages with clearly defined intents that support their personal brand.</div>\n",
      "<div class=\"more\"><button class=\"fancy-read-more\" data-href=\"/experience-stern/news-events/communication-strategies-developing-leadership-presence\">Read More</button></div>\n",
      "</div> </li>, <li class=\"item\">\n",
      "<div class=\"header\">\n",
      "<div class=\"kicker\">Faculty News</div>\n",
      "<h2 class=\"title\"><a class=\"news-events\" href=\"/experience-stern/news-events/professor-dolly-chugh-offers-advice-companies-successfully-manage-cross-generational-teams\">Professor Dolly Chugh offers advice for companies to successfully manage cross-generational teams</a></h2>\n",
      "<div class=\"date\">— <span class=\"date-display-single\">June 26, 2019</span> </div>\n",
      "</div>\n",
      "<div class=\"pic\"><img alt=\"Livemint logo\" height=\"144\" src=\"https://www.stern.nyu.edu/sites/default/files/assets/images/livemint%20feature.jpg\" width=\"192\"/></div>\n",
      "<h2 class=\"title-bottom\"><a class=\"news-events\" href=\"/experience-stern/news-events/professor-dolly-chugh-offers-advice-companies-successfully-manage-cross-generational-teams\">Professor Dolly Chugh offers advice for companies to successfully manage cross-generational teams</a></h2>\n",
      "<div class=\"body\">\n",
      "<div class=\"abstract\">Excerpt from <a href=\"https://www.livemint.com/mint-lounge/business-of-life/how-to-get-a-team-of-millennials-gen-xers-and-baby-boomers-to-pull-together-at-work-1561537500595.html\" target=\"_blank\">Livemint</a> -- \"Psychologist Dolly Chugh of NYU Stern School of Business points out that when it comes to inclusive behaviour, it is important to keep in mind that we are all “a work-in-progress\". Irrespective of the generation we belong to, we may have certain “ordinary privileges\" that others may not have access to.\"</div>\n",
      "<div class=\"more\"><button class=\"fancy-read-more\" data-href=\"/experience-stern/news-events/professor-dolly-chugh-offers-advice-companies-successfully-manage-cross-generational-teams\">Read More</button></div>\n",
      "</div> </li>, <li class=\"item\">\n",
      "<div class=\"header\">\n",
      "<div class=\"kicker\">School News</div>\n",
      "<h2 class=\"title\"><a class=\"news-events\" href=\"/experience-stern/news-events/radio-interview-mba-student-amy-nordrum-emphasizes-importance-science-journalism-understanding\">In a radio interview, MBA student Amy Nordrum emphasizes the importance of science journalism for understanding emerging technologies</a></h2>\n",
      "<div class=\"date\">— <span class=\"date-display-single\">June 26, 2019</span> </div>\n",
      "</div>\n",
      "<div class=\"pic\"><img height=\"144\" src=\"https://www.stern.nyu.edu/sites/default/files/assets/images/con_030855.jpg\" width=\"192\"/></div>\n",
      "<h2 class=\"title-bottom\"><a class=\"news-events\" href=\"/experience-stern/news-events/radio-interview-mba-student-amy-nordrum-emphasizes-importance-science-journalism-understanding\">In a radio interview, MBA student Amy Nordrum emphasizes the importance of science journalism for understanding emerging technologies</a></h2>\n",
      "<div class=\"body\">\n",
      "<div class=\"abstract\">Excerpt from <a href=\"https://woub.org/2019/06/26/science-journalism-is-important-to-understanding-emerging-technologies/\" target=\"_blank\">NPR</a> -- \"’Right now I work at a publication that is tailored to professional engineers in all different kinds of fields but that doesn't mean that they're experts necessarily in the field we're writing about. So in a lot of ways, it's also similar to writing for a broader audience, in which you need to define your terms, you need to remove jargon and you need to try to translate these developments in technology and engineering for people who are outside of that specialized field.’”</div>\n",
      "<div class=\"more\"><button class=\"fancy-read-more\" data-href=\"/experience-stern/news-events/radio-interview-mba-student-amy-nordrum-emphasizes-importance-science-journalism-understanding\">Listen here</button></div>\n",
      "</div> </li>]\n"
     ]
    }
   ],
   "source": [
    "# through visual inspection of the page (using the \"View page source\" option by right-clicking\n",
    "# on the background of the page in Firefox), we saw that each news item is a <li> element\n",
    "# (<li> standing for \"list item\") and has class \"item\". \n",
    "#\n",
    "# HTML elements very often have specific classes and that makes it very easy to locate what we\n",
    "# want. So much so that BeautifulSoup's .find() and .find_all() accept a second optional\n",
    "# argument called class_ (notice the underscore, it must be there!) that lets you specify\n",
    "# you are only interested in elements with that class \n",
    "\n",
    "items = soup.find_all(\"li\", class_=\"item\")\n",
    "print(items)"
   ]
  },
  {
   "cell_type": "code",
   "execution_count": 39,
   "metadata": {},
   "outputs": [
    {
     "name": "stdout",
     "output_type": "stream",
     "text": [
      "<li class=\"item\">\n",
      "<div class=\"header\">\n",
      "<div class=\"kicker\">School News</div>\n",
      "<h2 class=\"title\"><a class=\"news-events\" href=\"/experience-stern/news-events/isser-gallogly-associate-dean-mba-admissions-and-program-innovation-highlights-stern-s-ms-accounting\">Isser Gallogly, associate dean, MBA Admissions and Program Innovation, highlights Stern's MS in Accounting program in a feature story on specialized master's programs at New York City-based b-schools</a></h2>\n",
      "<div class=\"date\">— <span class=\"date-display-single\">July 22, 2019</span> </div>\n",
      "</div>\n",
      "<div class=\"pic\"><img alt=\"MiM Guide logo \" height=\"144\" src=\"https://www.stern.nyu.edu/sites/default/files/assets/images/mimguide192x144.jpg\" title=\"MiM Guide logo \" width=\"192\"/></div>\n",
      "<h2 class=\"title-bottom\"><a class=\"news-events\" href=\"/experience-stern/news-events/isser-gallogly-associate-dean-mba-admissions-and-program-innovation-highlights-stern-s-ms-accounting\">Isser Gallogly, associate dean, MBA Admissions and Program Innovation, highlights Stern's MS in Accounting program in a feature story on specialized master's programs at New York City-based b-schools</a></h2>\n",
      "<div class=\"body\">\n",
      "<div class=\"abstract\">Excerpt from <a href=\"https://mim-guide.com/articles/masters-in-management-programs-in-new-york-a-vast-range-of-opportunities\" target=\"_blank\">MiM Guide</a> -- \"'New York City offers unique advantages. After graduating from our program, many students begin their careers working in one of \"The Big Four\" large public accounting firms — Deloitte, PricewaterhouseCoopers, Ernst &amp; Young, and KPMG,' says Isser Gallogly, associate dean at NYU Stern, referring to the school’s one-year MS in Accounting course.\"</div>\n",
      "<div class=\"more\"><button class=\"fancy-read-more\" data-href=\"/experience-stern/news-events/isser-gallogly-associate-dean-mba-admissions-and-program-innovation-highlights-stern-s-ms-accounting\">Read More</button></div>\n",
      "</div> </li>\n"
     ]
    }
   ],
   "source": [
    "# great! let us look at the first news item on the page!\n",
    "print(items[0])"
   ]
  },
  {
   "cell_type": "markdown",
   "metadata": {},
   "source": [
    "In the cells that follow, we will extract specific information from this news item:\n",
    "\n",
    "- title?\n",
    "- category?\n",
    "- date?\n",
    "- abstract?\n",
    "- URL to the complete news item?"
   ]
  },
  {
   "cell_type": "code",
   "execution_count": 48,
   "metadata": {},
   "outputs": [
    {
     "name": "stdout",
     "output_type": "stream",
     "text": [
      "Isser Gallogly, associate dean, MBA Admissions and Program Innovation, highlights Stern's MS in Accounting program in a feature story on specialized master's programs at New York City-based b-schools\n"
     ]
    }
   ],
   "source": [
    "# let us extract the title of this news item\n",
    "title = items[0].find(\"h2\" ).text\n",
    "print( title )"
   ]
  },
  {
   "cell_type": "code",
   "execution_count": 43,
   "metadata": {},
   "outputs": [
    {
     "name": "stdout",
     "output_type": "stream",
     "text": [
      "School News\n"
     ]
    }
   ],
   "source": [
    "# let us extract the category of this news item\n",
    "\n",
    "category = items[0].find(\"div\", class_=\"kicker\").text\n",
    "print( category )"
   ]
  },
  {
   "cell_type": "code",
   "execution_count": 45,
   "metadata": {},
   "outputs": [
    {
     "name": "stdout",
     "output_type": "stream",
     "text": [
      "July 22, 2019 \n"
     ]
    }
   ],
   "source": [
    "# let us extract the date of this news item\n",
    "\n",
    "date = items[0].find(\"div\", class_=\"date\").text[2:]\n",
    "print( date )"
   ]
  },
  {
   "cell_type": "code",
   "execution_count": 46,
   "metadata": {},
   "outputs": [
    {
     "name": "stdout",
     "output_type": "stream",
     "text": [
      "Excerpt from MiM Guide -- \"'New York City offers unique advantages. After graduating from our program, many students begin their careers working in one of \"The Big Four\" large public accounting firms — Deloitte, PricewaterhouseCoopers, Ernst & Young, and KPMG,' says Isser Gallogly, associate dean at NYU Stern, referring to the school’s one-year MS in Accounting course.\"\n"
     ]
    }
   ],
   "source": [
    "# let us extract the abstract of this news item\n",
    "\n",
    "abstract = items[0].find(\"div\", class_=\"abstract\").text\n",
    "print( abstract)"
   ]
  },
  {
   "cell_type": "code",
   "execution_count": 53,
   "metadata": {},
   "outputs": [
    {
     "name": "stdout",
     "output_type": "stream",
     "text": [
      "http://www.stern.nyu.edu/experience-stern/news-events/isser-gallogly-associate-dean-mba-admissions-and-program-innovation-highlights-stern-s-ms-accounting\n"
     ]
    }
   ],
   "source": [
    "# let us extract the URL of this news item (and complete it so that we have a valid URL)\n",
    "url = \"http://www.stern.nyu.edu\" + items[0].find(\"h2\").find('a').get('href')\n",
    "print( url )"
   ]
  },
  {
   "cell_type": "markdown",
   "metadata": {},
   "source": [
    "## Exercise to do at home:\n",
    "\n",
    "Based on the code above, write a short program that creates a dictionary called 'news'.\n",
    "This dictionary should be structured as follows:\n",
    "\n",
    "key: title of a news article\n",
    "value: URL of that news article\n",
    "\n",
    "Your code should extract this information for *all* news articles on the Stern News and Events page and insert it into the dictionary.\n",
    "\n",
    "Then, write a simple program that prints to the user all titles currently on the Stern News and Events page and asks them to indicate which article they want to see the URL for (so that they can click on the link and open it in a browser).\n",
    "\n",
    "Extension/more advanced:\n",
    "\n",
    "If you want a bigger challenge, notice that at the bottom of the page there are links for other pages with additional (older) news articles. They show up in the familiar format: 1 2 3 ... . Each of these numbers is a link to another page with another batch of news articles. Try to have your code extract some additional news articles by having it automatically visit those other pages and also extracting news articles from them."
   ]
  }
 ],
 "metadata": {
  "kernelspec": {
   "display_name": "Python 3",
   "language": "python",
   "name": "python3"
  },
  "language_info": {
   "codemirror_mode": {
    "name": "ipython",
    "version": 3
   },
   "file_extension": ".py",
   "mimetype": "text/x-python",
   "name": "python",
   "nbconvert_exporter": "python",
   "pygments_lexer": "ipython3",
   "version": "3.6.3"
  }
 },
 "nbformat": 4,
 "nbformat_minor": 2
}
